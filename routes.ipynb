{
 "cells": [
  {
   "cell_type": "code",
   "execution_count": 1,
   "metadata": {},
   "outputs": [],
   "source": [
    "import pandas as pd\n",
    "import numpy as np"
   ]
  },
  {
   "cell_type": "code",
   "execution_count": 2,
   "metadata": {},
   "outputs": [],
   "source": [
    "data = pd.read_json('amenities-vancouver.json.gz', lines = True, encoding=\"utf8\")"
   ]
  },
  {
   "cell_type": "code",
   "execution_count": 3,
   "metadata": {
    "scrolled": true
   },
   "outputs": [],
   "source": [
    "data = data.drop('timestamp', axis = 1)\n",
    "# data = data['amenity'].drop_duplicates()"
   ]
  },
  {
   "cell_type": "code",
   "execution_count": 4,
   "metadata": {},
   "outputs": [
    {
     "name": "stdout",
     "output_type": "stream",
     "text": [
      "49.0012885\n",
      "49.4633008\n",
      "-123.4998587\n",
      "-122.0006559\n"
     ]
    }
   ],
   "source": [
    "print(data['lat'].min())\n",
    "print(data['lat'].max())\n",
    "print(data['lon'].min())\n",
    "print(data['lon'].max())"
   ]
  },
  {
   "cell_type": "code",
   "execution_count": 5,
   "metadata": {},
   "outputs": [],
   "source": [
    "# data.groupby('amenity').count()\n",
    "# to_csv('agg.csv')"
   ]
  },
  {
   "cell_type": "markdown",
   "metadata": {},
   "source": [
    "If I was planning a tour of the city (by walking/biking/driving), where should I go? \n",
    "Are there paths that take me past an interesting variety of things?\n",
    "We can break down recommendations based on the different forms of transportation (Nhi)\n",
    "Adding to the previous question, what certain times of the day are entertainment amenities really busy \n",
    "and also group them by geographic location. (Nhi)\n"
   ]
  },
  {
   "cell_type": "code",
   "execution_count": 6,
   "metadata": {},
   "outputs": [],
   "source": [
    "food = ['cafe', 'fast_food', 'restaurant','pub','bistro','bar','ice_cream',\n",
    "        'biergarten','food_court']\n",
    "drink = ['juice_bar', 'internet_cafe']\n",
    "place = ['public_building',  'clock', 'marketplace',\n",
    "         'conference_centre','Observation Platform','watering_place',\n",
    "         'arts_centre','park', 'casino', 'shop|clothes','townhall' ]\n",
    "car = ['car_rental','charging_station', 'car_sharing','fuel','EVSE']\n",
    "parking = ['parking_entrance','parking','parking_space']\n",
    "walk = ['taxi', 'bus_station']\n",
    "bike = ['bicycle_parking','bicycle_rental']\n",
    "boat = ['boat_rental']\n",
    "moto = ['motorcycle_rental','motorcycle_parking']"
   ]
  },
  {
   "cell_type": "code",
   "execution_count": 7,
   "metadata": {},
   "outputs": [],
   "source": [
    "interesting = food+drink+place+car+parking+walk+bike+boat+moto\n",
    "intPlace = data[data['amenity'].isin(interesting)]"
   ]
  },
  {
   "cell_type": "code",
   "execution_count": 8,
   "metadata": {},
   "outputs": [
    {
     "name": "stdout",
     "output_type": "stream",
     "text": [
      "(17718, 5)\n",
      "(7890, 5)\n",
      "37\n"
     ]
    }
   ],
   "source": [
    "print(data.shape)\n",
    "print(intPlace.shape)\n",
    "print(len(interesting))"
   ]
  },
  {
   "cell_type": "code",
   "execution_count": 9,
   "metadata": {},
   "outputs": [],
   "source": [
    "# TODO: distribution of those places, how many of each"
   ]
  },
  {
   "cell_type": "code",
   "execution_count": 10,
   "metadata": {},
   "outputs": [],
   "source": [
    "# clean data with only 'interesting places'\n",
    "# intPlace.groupby('amenity').count()"
   ]
  },
  {
   "cell_type": "code",
   "execution_count": 11,
   "metadata": {},
   "outputs": [],
   "source": [
    "import sys\n",
    "import folium\n",
    "import folium.plugins as fp\n",
    "%matplotlib inline\n",
    "import matplotlib.pyplot as plt"
   ]
  },
  {
   "cell_type": "code",
   "execution_count": 12,
   "metadata": {},
   "outputs": [],
   "source": [
    "# split tags dict to columns and drop tags\n",
    "intPlace = intPlace.join(intPlace['tags'].apply(pd.Series))\n",
    "intPlace = intPlace.drop('tags', axis = 1)"
   ]
  },
  {
   "cell_type": "code",
   "execution_count": 13,
   "metadata": {},
   "outputs": [],
   "source": [
    "# number of records for each tag column\n",
    "nTags = intPlace.count().reset_index().sort_values(by = 0, ascending = False)\n",
    "nTags.columns = ['amenity','count_tags']\n",
    "# nTags.to_csv('nTags.csv')"
   ]
  },
  {
   "cell_type": "code",
   "execution_count": 14,
   "metadata": {},
   "outputs": [
    {
     "data": {
      "text/html": [
       "<div>\n",
       "<style scoped>\n",
       "    .dataframe tbody tr th:only-of-type {\n",
       "        vertical-align: middle;\n",
       "    }\n",
       "\n",
       "    .dataframe tbody tr th {\n",
       "        vertical-align: top;\n",
       "    }\n",
       "\n",
       "    .dataframe thead th {\n",
       "        text-align: right;\n",
       "    }\n",
       "</style>\n",
       "<table border=\"1\" class=\"dataframe\">\n",
       "  <thead>\n",
       "    <tr style=\"text-align: right;\">\n",
       "      <th></th>\n",
       "      <th>amenity</th>\n",
       "      <th>name</th>\n",
       "    </tr>\n",
       "  </thead>\n",
       "  <tbody>\n",
       "    <tr>\n",
       "      <th>1659</th>\n",
       "      <td>conference_centre</td>\n",
       "      <td>Vancouver Convention Centre East</td>\n",
       "    </tr>\n",
       "    <tr>\n",
       "      <th>2885</th>\n",
       "      <td>pub</td>\n",
       "      <td>Tap &amp; Barrel</td>\n",
       "    </tr>\n",
       "    <tr>\n",
       "      <th>9084</th>\n",
       "      <td>restaurant</td>\n",
       "      <td>Botanist</td>\n",
       "    </tr>\n",
       "    <tr>\n",
       "      <th>10743</th>\n",
       "      <td>restaurant</td>\n",
       "      <td>Mahony and Sons</td>\n",
       "    </tr>\n",
       "    <tr>\n",
       "      <th>15921</th>\n",
       "      <td>cafe</td>\n",
       "      <td>Starbucks</td>\n",
       "    </tr>\n",
       "  </tbody>\n",
       "</table>\n",
       "</div>"
      ],
      "text/plain": [
       "                 amenity                              name\n",
       "1659   conference_centre  Vancouver Convention Centre East\n",
       "2885                 pub                      Tap & Barrel\n",
       "9084          restaurant                          Botanist\n",
       "10743         restaurant                   Mahony and Sons\n",
       "15921               cafe                         Starbucks"
      ]
     },
     "execution_count": 14,
     "metadata": {},
     "output_type": "execute_result"
    }
   ],
   "source": [
    "# found canada place\n",
    "intPlace[intPlace['addr:street'] == 'Canada Place'][['amenity','name']]"
   ]
  },
  {
   "cell_type": "code",
   "execution_count": 15,
   "metadata": {},
   "outputs": [],
   "source": [
    "# fill nan name with alt_name and drop alt_name\n",
    "intPlace['name'] = intPlace['name'].fillna(intPlace['alt_name'])\n",
    "intPlace['name'] = intPlace['name'].fillna(intPlace['official_name'])\n",
    "# only keep columns with more than 100 records\n",
    "columnKeep = list(nTags[nTags['count_tags'] > 1000]['amenity'])\n",
    "intPlace = intPlace[columnKeep]\n",
    "\n",
    "placeData = intPlace[intPlace['amenity'].isin(place)]"
   ]
  },
  {
   "cell_type": "code",
   "execution_count": 16,
   "metadata": {},
   "outputs": [],
   "source": [
    "visitData = pd.read_csv('HLLBC_ATT.csv')\n",
    "# trim semi colon:\n",
    "def trim_semi(st):\n",
    "    st = st.replace(' ;','')\n",
    "    return(st)\n",
    "visitData['DESCRIPTN'] = visitData['DESCRIPTN'].apply(trim_semi)\n",
    "visitData = visitData[['DESCRIPTN','NAME','LATITUDE','LONGITUDE']]\n",
    "visitKeep = ['Historic & Heritage Sites','Wineries','Wildlife Viewing - Whale Watching',\n",
    "'Hiking - Hiking', 'Ziplining & Bungee Jumping','Kayaking & Canoeing - River',\n",
    "'Kayaking & Canoeing - Ocean','Museums','Art Galleries', 'Parks - Provincial',\n",
    "'Amusement Parks','Museums - Aboriginal Museums','Kayaking & Canoeing - Lake',\n",
    "'Water Parks & Slides','Gardens & City Parks','Bridges, Buildings & Structures',\n",
    "'Wildlife Viewing - Bird Watching', 'Shops & Malls','Science & Nature',\n",
    "'Parks - National','Skiing & Snowboarding - Heli Skiing', 'Airtrams & Gondolas',\n",
    "'Observatories & Planetariums','Aquariums','Historical & Heritage Sites - Aboriginal Sites','Hot Springs']\n",
    "visitData = visitData[visitData['DESCRIPTN'].isin(visitKeep)]\n",
    "visitData.columns = ['amenity','name','lat','lon']\n",
    "\n",
    "placeData = pd.concat([placeData, visitData], sort=False)"
   ]
  },
  {
   "cell_type": "code",
   "execution_count": 17,
   "metadata": {},
   "outputs": [],
   "source": [
    "parks= pd.read_json('parks.json')\n",
    "# split tags dict to columns and drop tags\n",
    "parks = parks.join(parks['fields'].apply(pd.Series))\n",
    "parks = parks.drop('fields', axis = 1)\n",
    "# split tags dict to columns and drop tags\n",
    "parks = parks.join(parks['geometry'].apply(pd.Series))\n",
    "parks = parks.drop('geometry', axis = 1)\n",
    "parks = parks[['datasetid','name','googlemapdest','hectare']]\n",
    "googlemapdest = pd.DataFrame(parks['googlemapdest'].tolist(), columns=['lat','lon'])\n",
    "parks= parks.join(googlemapdest)\n",
    "parks = parks.drop('googlemapdest', axis = 1)\n",
    "# parks.columns = ['amenity','name','lat','lon']"
   ]
  },
  {
   "cell_type": "code",
   "execution_count": 18,
   "metadata": {},
   "outputs": [],
   "source": [
    "# join parks and cults to intPlace\n",
    "parks['amenity'] = 'park'\n",
    "intPlace = pd.concat([intPlace, parks], sort=False)"
   ]
  },
  {
   "cell_type": "code",
   "execution_count": 19,
   "metadata": {},
   "outputs": [],
   "source": [
    "# show option\n",
    "def toSee(if_food = False, if_drink = False,if_place = False):\n",
    "    toC = []\n",
    "    if if_food == True:\n",
    "        toC = toC+food\n",
    "    if if_drink == True:\n",
    "        toC = toC+drink\n",
    "    if if_place == True:\n",
    "        toC = toC+place\n",
    "    return(toC)"
   ]
  },
  {
   "cell_type": "code",
   "execution_count": 20,
   "metadata": {},
   "outputs": [],
   "source": [
    "from shapely.geometry import Point, MultiPoint\n",
    "from shapely.ops import nearest_points\n",
    "import geopandas as gpd"
   ]
  },
  {
   "cell_type": "code",
   "execution_count": 21,
   "metadata": {},
   "outputs": [],
   "source": [
    "data_st = {'amenity':  ['skytrain', 'skytrain','skytrain', 'skytrain'],\n",
    "        'name': ['Burrard', 'Granville','Waterfront','Stadium'],\n",
    "        'lat':[49.2853095,49.2832795,49.2859559,49.279595],\n",
    "        'lon':[-123.1221708,-123.1183089,-123.1137529,-123.1119618]\n",
    "        }\n",
    "\n",
    "stations = pd.DataFrame(data_st, columns = ['amenity','name','lat','lon'])"
   ]
  },
  {
   "cell_type": "code",
   "execution_count": 22,
   "metadata": {},
   "outputs": [],
   "source": [
    "# adatped from https://towardsdatascience.com/nearest-neighbour-analysis-with-geospatial-data-7bcd95f34c0e\n",
    "def create_gdf(df, x='lon', y='lat'):\n",
    "    return gpd.GeoDataFrame(df, \n",
    "    geometry=gpd.points_from_xy(df[y], df[x]), \n",
    "             crs={'init':'EPSG:4326'})\n",
    "stations_gdf = create_gdf(stations)\n",
    "placeData_gdf = create_gdf(placeData)"
   ]
  },
  {
   "cell_type": "code",
   "execution_count": 23,
   "metadata": {},
   "outputs": [],
   "source": [
    "def calculate_nearest(row, destination, val, col='geometry'):\n",
    "    # 1 - create unary union    \n",
    "    dest_unary = destination['geometry'].unary_union\n",
    "    # 2 - find closest point\n",
    "    nearest_geom = nearest_points(row[col], dest_unary)\n",
    "    # 3 - Find the corresponding geom\n",
    "    match_geom = destination.loc[destination.geometry == nearest_geom[1]]\n",
    "    # 4 - get the corresponding value\n",
    "    match_value = match_geom[val].values[0]\n",
    "    return match_value"
   ]
  },
  {
   "cell_type": "code",
   "execution_count": 24,
   "metadata": {
    "scrolled": true
   },
   "outputs": [],
   "source": [
    "import warnings\n",
    "warnings.filterwarnings(\"ignore\")\n",
    "def df_nearest(station,data):\n",
    "    station['nearest_geom'] = station.apply(calculate_nearest, destination=data, val='geometry', axis=1)\n",
    "    station['nearest_place'] = station.apply(calculate_nearest, destination=data, val='name', axis=1)\n",
    "    station['nearest_amenity'] = station.apply(calculate_nearest, destination=data, val='amenity', axis=1)\n",
    "    station['nearest_lat'] = station.apply(calculate_nearest, destination=data, val='lat', axis=1)\n",
    "    station['nearest_lon'] = station.apply(calculate_nearest, destination=data, val='lon', axis=1)\n",
    "    station = station[['nearest_amenity','nearest_place','nearest_geom','nearest_lat','nearest_lon']]\n",
    "    station.columns = ['amenity','name','geometry','lat','lon']\n",
    "    return(station)\n",
    "    \n",
    "def get_route(station,data = placeData_gdf):\n",
    "    station_data = stations_gdf[stations_gdf['name'] == station]\n",
    "    result = pd.DataFrame(columns=['amenity','name','geometry','lat','lon'])\n",
    "\n",
    "    nearest = df_nearest(station_data,data)\n",
    "    result = result.append(nearest)\n",
    "    data = data[data['name']!= nearest['name'].values[0]]\n",
    "    \n",
    "    nearest = df_nearest(nearest,data)\n",
    "    result = result.append(nearest)\n",
    "    data = data[data['name']!= nearest['name'].values[0] ]\n",
    "    \n",
    "    nearest = df_nearest(nearest,data)\n",
    "    result = result.append(nearest)\n",
    "    data = data[data['name']!= nearest['name'].values[0] ]\n",
    "    \n",
    "    nearest = df_nearest(nearest,data)\n",
    "    result = result.append(nearest)\n",
    "    data = data[data['name']!= nearest['name'].values[0] ]\n",
    "    \n",
    "    nearest = df_nearest(nearest,data)\n",
    "    result = result.append(nearest)\n",
    "#     data = data[data['name']!= nearest['name'].values[0] & data['amenity']!=nearest['amenity'].values[0]]\n",
    "    return(result)\n",
    "    \n",
    "br = get_route(station = 'Burrard',data = placeData_gdf)\n",
    "gv = get_route(station = 'Granville',data = placeData_gdf)\n",
    "wf = get_route(station = 'Waterfront',data = placeData_gdf)\n",
    "sd = get_route(station = 'Stadium',data = placeData_gdf)\n",
    "\n",
    "#                          & data['amenity']!=nearest['nearest_amenity'].values[0]]"
   ]
  },
  {
   "cell_type": "code",
   "execution_count": 25,
   "metadata": {},
   "outputs": [
    {
     "data": {
      "text/html": [
       "<div style=\"width:100%;\"><div style=\"position:relative;width:100%;height:0;padding-bottom:60%;\"><span style=\"color:#565656\">Make this Notebook Trusted to load map: File -> Trust Notebook</span><iframe src=\"about:blank\" style=\"position:absolute;width:100%;height:100%;left:0;top:0;border:none !important;\" data-html=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 onload=\"this.contentDocument.open();this.contentDocument.write(atob(this.getAttribute('data-html')));this.contentDocument.close();\" allowfullscreen webkitallowfullscreen mozallowfullscreen></iframe></div></div>"
      ],
      "text/plain": [
       "<folium.folium.Map at 0x2c57ba17898>"
      ]
     },
     "execution_count": 25,
     "metadata": {},
     "output_type": "execute_result"
    }
   ],
   "source": [
    "placeList = gv['name'].values.tolist()\n",
    "placeDataPlot = gv[['lat','lon']]\n",
    "locationlist = placeDataPlot.values.tolist()\n",
    "\n",
    "map =folium.Map(location=[49.282730, -123.120735], zoom_start=15)\n",
    "\n",
    "for point in range(0, len(locationlist)):\n",
    "    folium.Marker(locationlist[point], popup = placeList[point]).add_to(map)\n",
    "\n",
    "map"
   ]
  },
  {
   "cell_type": "code",
   "execution_count": 26,
   "metadata": {},
   "outputs": [
    {
     "data": {
      "text/html": [
       "<div style=\"width:100%;\"><div style=\"position:relative;width:100%;height:0;padding-bottom:60%;\"><span style=\"color:#565656\">Make this Notebook Trusted to load map: File -> Trust Notebook</span><iframe src=\"about:blank\" style=\"position:absolute;width:100%;height:100%;left:0;top:0;border:none !important;\" data-html=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 onload=\"this.contentDocument.open();this.contentDocument.write(atob(this.getAttribute('data-html')));this.contentDocument.close();\" allowfullscreen webkitallowfullscreen mozallowfullscreen></iframe></div></div>"
      ],
      "text/plain": [
       "<folium.folium.Map at 0x2c57ba17518>"
      ]
     },
     "execution_count": 26,
     "metadata": {},
     "output_type": "execute_result"
    }
   ],
   "source": [
    "placeList = wf['name'].values.tolist()\n",
    "placeDataPlot = wf[['lat','lon']]\n",
    "locationlist = placeDataPlot.values.tolist()\n",
    "\n",
    "map =folium.Map(location=[49.2859559,-123.1137529], zoom_start=15)\n",
    "\n",
    "for point in range(0, len(locationlist)):\n",
    "    folium.Marker(locationlist[point], popup = placeList[point]).add_to(map)\n",
    "\n",
    "map"
   ]
  },
  {
   "cell_type": "code",
   "execution_count": 27,
   "metadata": {},
   "outputs": [
    {
     "data": {
      "text/html": [
       "<div style=\"width:100%;\"><div style=\"position:relative;width:100%;height:0;padding-bottom:60%;\"><span style=\"color:#565656\">Make this Notebook Trusted to load map: File -> Trust Notebook</span><iframe src=\"about:blank\" style=\"position:absolute;width:100%;height:100%;left:0;top:0;border:none !important;\" data-html=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 onload=\"this.contentDocument.open();this.contentDocument.write(atob(this.getAttribute('data-html')));this.contentDocument.close();\" allowfullscreen webkitallowfullscreen mozallowfullscreen></iframe></div></div>"
      ],
      "text/plain": [
       "<folium.folium.Map at 0x2c57ba17710>"
      ]
     },
     "execution_count": 27,
     "metadata": {},
     "output_type": "execute_result"
    }
   ],
   "source": [
    "placeList = sd['name'].values.tolist()\n",
    "placeDataPlot = sd[['lat','lon']]\n",
    "locationlist = placeDataPlot.values.tolist()\n",
    "\n",
    "map =folium.Map(location=[49.279595,-123.1119618], zoom_start=15)\n",
    "\n",
    "for point in range(0, len(locationlist)):\n",
    "    folium.Marker(locationlist[point], popup = placeList[point]).add_to(map)\n",
    "\n",
    "map"
   ]
  },
  {
   "cell_type": "code",
   "execution_count": null,
   "metadata": {},
   "outputs": [],
   "source": []
  }
 ],
 "metadata": {
  "kernelspec": {
   "display_name": "Python 3",
   "language": "python",
   "name": "python3"
  },
  "language_info": {
   "codemirror_mode": {
    "name": "ipython",
    "version": 3
   },
   "file_extension": ".py",
   "mimetype": "text/x-python",
   "name": "python",
   "nbconvert_exporter": "python",
   "pygments_lexer": "ipython3",
   "version": "3.7.1"
  }
 },
 "nbformat": 4,
 "nbformat_minor": 2
}
