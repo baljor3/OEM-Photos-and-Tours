{
 "cells": [
  {
   "cell_type": "code",
   "execution_count": 220,
   "metadata": {},
   "outputs": [],
   "source": [
    "import pandas as pd\n",
    "import numpy as np"
   ]
  },
  {
   "cell_type": "code",
   "execution_count": 221,
   "metadata": {},
   "outputs": [],
   "source": [
    "data = pd.read_json('amenities-vancouver.json.gz', lines = True, encoding=\"utf8\")"
   ]
  },
  {
   "cell_type": "code",
   "execution_count": 222,
   "metadata": {
    "scrolled": true
   },
   "outputs": [],
   "source": [
    "data = data.drop('timestamp', axis = 1)\n",
    "# data = data['amenity'].drop_duplicates()"
   ]
  },
  {
   "cell_type": "code",
   "execution_count": 223,
   "metadata": {},
   "outputs": [
    {
     "name": "stdout",
     "output_type": "stream",
     "text": [
      "49.0012885\n",
      "49.4633008\n",
      "-123.4998587\n",
      "-122.0006559\n"
     ]
    }
   ],
   "source": [
    "print(data['lat'].min())\n",
    "print(data['lat'].max())\n",
    "print(data['lon'].min())\n",
    "print(data['lon'].max())"
   ]
  },
  {
   "cell_type": "code",
   "execution_count": 224,
   "metadata": {},
   "outputs": [],
   "source": [
    "# data.groupby('amenity').count()\n",
    "# to_csv('agg.csv')"
   ]
  },
  {
   "cell_type": "code",
   "execution_count": 6,
   "metadata": {},
   "outputs": [
    {
     "ename": "SyntaxError",
     "evalue": "invalid syntax (<ipython-input-6-008b83226efb>, line 1)",
     "output_type": "error",
     "traceback": [
      "\u001b[1;36m  File \u001b[1;32m\"<ipython-input-6-008b83226efb>\"\u001b[1;36m, line \u001b[1;32m1\u001b[0m\n\u001b[1;33m    If I was planning a tour of the city (by walking/biking/driving), where should I go?\u001b[0m\n\u001b[1;37m       ^\u001b[0m\n\u001b[1;31mSyntaxError\u001b[0m\u001b[1;31m:\u001b[0m invalid syntax\n"
     ]
    }
   ],
   "source": [
    "If I was planning a tour of the city (by walking/biking/driving), where should I go? \n",
    "Are there paths that take me past an interesting variety of things?\n",
    "We can break down recommendations based on the different forms of transportation (Nhi)\n",
    "Adding to the previous question, what certain times of the day are entertainment amenities really busy \n",
    "and also group them by geographic location. (Nhi)\n"
   ]
  },
  {
   "cell_type": "code",
   "execution_count": 225,
   "metadata": {},
   "outputs": [],
   "source": [
    "food = ['cafe', 'fast_food', 'restaurant','pub','bistro','bar','ice_cream',\n",
    "        'biergarten','food_court']\n",
    "drink = ['juice_bar', 'internet_cafe']\n",
    "place = ['public_building',  'clock', 'marketplace',\n",
    "         'conference_centre','Observation Platform','watering_place',\n",
    "         'arts_centre','park', 'casino', 'shop|clothes','townhall' ]\n",
    "car = ['car_rental','charging_station', 'car_sharing','fuel','EVSE']\n",
    "parking = ['parking_entrance','parking','parking_space']\n",
    "walk = ['taxi', 'bus_station']\n",
    "bike = ['bicycle_parking','bicycle_rental']\n",
    "boat = ['boat_rental']\n",
    "moto = ['motorcycle_rental','motorcycle_parking']"
   ]
  },
  {
   "cell_type": "code",
   "execution_count": 226,
   "metadata": {},
   "outputs": [],
   "source": [
    "interesting = food+drink+place+car+parking+walk+bike+boat+moto\n",
    "intPlace = data[data['amenity'].isin(interesting)]"
   ]
  },
  {
   "cell_type": "code",
   "execution_count": 227,
   "metadata": {},
   "outputs": [
    {
     "name": "stdout",
     "output_type": "stream",
     "text": [
      "(17718, 5)\n",
      "(7890, 5)\n",
      "37\n"
     ]
    }
   ],
   "source": [
    "print(data.shape)\n",
    "print(intPlace.shape)\n",
    "print(len(interesting))"
   ]
  },
  {
   "cell_type": "code",
   "execution_count": 93,
   "metadata": {},
   "outputs": [],
   "source": [
    "# TODO: distribution of those places, how many of each"
   ]
  },
  {
   "cell_type": "code",
   "execution_count": 94,
   "metadata": {},
   "outputs": [],
   "source": [
    "# clean data with only 'interesting places'\n",
    "# intPlace.groupby('amenity').count()"
   ]
  },
  {
   "cell_type": "code",
   "execution_count": 228,
   "metadata": {},
   "outputs": [],
   "source": [
    "import sys\n",
    "import folium\n",
    "import folium.plugins as fp\n",
    "%matplotlib inline\n",
    "import matplotlib.pyplot as plt"
   ]
  },
  {
   "cell_type": "code",
   "execution_count": 229,
   "metadata": {},
   "outputs": [],
   "source": [
    "# split tags dict to columns and drop tags\n",
    "intPlace = intPlace.join(intPlace['tags'].apply(pd.Series))\n",
    "intPlace = intPlace.drop('tags', axis = 1)"
   ]
  },
  {
   "cell_type": "code",
   "execution_count": 230,
   "metadata": {},
   "outputs": [],
   "source": [
    "# number of records for each tag column\n",
    "nTags = intPlace.count().reset_index().sort_values(by = 0, ascending = False)\n",
    "nTags.columns = ['amenity','count_tags']\n",
    "# nTags.to_csv('nTags.csv')"
   ]
  },
  {
   "cell_type": "code",
   "execution_count": 231,
   "metadata": {},
   "outputs": [
    {
     "data": {
      "text/html": [
       "<div>\n",
       "<style scoped>\n",
       "    .dataframe tbody tr th:only-of-type {\n",
       "        vertical-align: middle;\n",
       "    }\n",
       "\n",
       "    .dataframe tbody tr th {\n",
       "        vertical-align: top;\n",
       "    }\n",
       "\n",
       "    .dataframe thead th {\n",
       "        text-align: right;\n",
       "    }\n",
       "</style>\n",
       "<table border=\"1\" class=\"dataframe\">\n",
       "  <thead>\n",
       "    <tr style=\"text-align: right;\">\n",
       "      <th></th>\n",
       "      <th>amenity</th>\n",
       "      <th>name</th>\n",
       "    </tr>\n",
       "  </thead>\n",
       "  <tbody>\n",
       "    <tr>\n",
       "      <th>1659</th>\n",
       "      <td>conference_centre</td>\n",
       "      <td>Vancouver Convention Centre East</td>\n",
       "    </tr>\n",
       "    <tr>\n",
       "      <th>2885</th>\n",
       "      <td>pub</td>\n",
       "      <td>Tap &amp; Barrel</td>\n",
       "    </tr>\n",
       "    <tr>\n",
       "      <th>9084</th>\n",
       "      <td>restaurant</td>\n",
       "      <td>Botanist</td>\n",
       "    </tr>\n",
       "    <tr>\n",
       "      <th>10743</th>\n",
       "      <td>restaurant</td>\n",
       "      <td>Mahony and Sons</td>\n",
       "    </tr>\n",
       "    <tr>\n",
       "      <th>15921</th>\n",
       "      <td>cafe</td>\n",
       "      <td>Starbucks</td>\n",
       "    </tr>\n",
       "  </tbody>\n",
       "</table>\n",
       "</div>"
      ],
      "text/plain": [
       "                 amenity                              name\n",
       "1659   conference_centre  Vancouver Convention Centre East\n",
       "2885                 pub                      Tap & Barrel\n",
       "9084          restaurant                          Botanist\n",
       "10743         restaurant                   Mahony and Sons\n",
       "15921               cafe                         Starbucks"
      ]
     },
     "execution_count": 231,
     "metadata": {},
     "output_type": "execute_result"
    }
   ],
   "source": [
    "# found canada place\n",
    "intPlace[intPlace['addr:street'] == 'Canada Place'][['amenity','name']]"
   ]
  },
  {
   "cell_type": "code",
   "execution_count": 232,
   "metadata": {},
   "outputs": [],
   "source": [
    "# fill nan name with alt_name and drop alt_name\n",
    "intPlace['name'] = intPlace['name'].fillna(intPlace['alt_name'])\n",
    "intPlace['name'] = intPlace['name'].fillna(intPlace['official_name'])\n",
    "# only keep columns with more than 100 records\n",
    "columnKeep = list(nTags[nTags['count_tags'] > 1000]['amenity'])\n",
    "intPlace = intPlace[columnKeep]\n",
    "\n",
    "placeData = intPlace[intPlace['amenity'].isin(place)]"
   ]
  },
  {
   "cell_type": "code",
   "execution_count": 234,
   "metadata": {},
   "outputs": [],
   "source": [
    "visitData = pd.read_csv('HLLBC_ATT.csv')\n",
    "# trim semi colon:\n",
    "def trim_semi(st):\n",
    "    st = st.replace(' ;','')\n",
    "    return(st)\n",
    "visitData['DESCRIPTN'] = visitData['DESCRIPTN'].apply(trim_semi)\n",
    "visitData = visitData[['DESCRIPTN','NAME','LATITUDE','LONGITUDE']]\n",
    "visitKeep = ['Historic & Heritage Sites','Wineries','Wildlife Viewing - Whale Watching',\n",
    "'Hiking - Hiking', 'Ziplining & Bungee Jumping','Kayaking & Canoeing - River',\n",
    "'Kayaking & Canoeing - Ocean','Museums','Art Galleries', 'Parks - Provincial',\n",
    "'Amusement Parks','Museums - Aboriginal Museums','Kayaking & Canoeing - Lake',\n",
    "'Water Parks & Slides','Gardens & City Parks','Bridges, Buildings & Structures',\n",
    "'Wildlife Viewing - Bird Watching', 'Shops & Malls','Science & Nature',\n",
    "'Parks - National','Skiing & Snowboarding - Heli Skiing', 'Airtrams & Gondolas',\n",
    "'Observatories & Planetariums','Aquariums','Historical & Heritage Sites - Aboriginal Sites','Hot Springs']\n",
    "visitData = visitData[visitData['DESCRIPTN'].isin(visitKeep)]\n",
    "visitData.columns = ['amenity','name','lat','lon']\n",
    "\n",
    "placeData = pd.concat([placeData, visitData], sort=False)"
   ]
  },
  {
   "cell_type": "code",
   "execution_count": null,
   "metadata": {},
   "outputs": [],
   "source": [
    "parks= pd.read_json('parks.json')\n",
    "# split tags dict to columns and drop tags\n",
    "parks = parks.join(parks['fields'].apply(pd.Series))\n",
    "parks = parks.drop('fields', axis = 1)\n",
    "# split tags dict to columns and drop tags\n",
    "parks = parks.join(parks['geometry'].apply(pd.Series))\n",
    "parks = parks.drop('geometry', axis = 1)\n",
    "parks = parks[['datasetid','name','googlemapdest','hectare']]\n",
    "googlemapdest = pd.DataFrame(parks['googlemapdest'].tolist(), columns=['lat','lon'])\n",
    "parks= parks.join(googlemapdest)\n",
    "parks = parks.drop('googlemapdest', axis = 1)\n",
    "# parks.columns = ['amenity','name','lat','lon']"
   ]
  },
  {
   "cell_type": "code",
   "execution_count": null,
   "metadata": {},
   "outputs": [],
   "source": [
    "# join parks and cults to intPlace\n",
    "parks['amenity'] = 'park'\n",
    "intPlace = pd.concat([intPlace, parks], sort=False)"
   ]
  },
  {
   "cell_type": "code",
   "execution_count": 43,
   "metadata": {},
   "outputs": [],
   "source": [
    "# show option\n",
    "def toSee(if_food = False, if_drink = False,if_place = False):\n",
    "    toC = []\n",
    "    if if_food == True:\n",
    "        toC = toC+food\n",
    "    if if_drink == True:\n",
    "        toC = toC+drink\n",
    "    if if_place == True:\n",
    "        toC = toC+place\n",
    "    return(toC)"
   ]
  },
  {
   "cell_type": "code",
   "execution_count": null,
   "metadata": {},
   "outputs": [],
   "source": [
    "use model to get the points the visualize the point with arcgis. given multiple coordinates"
   ]
  },
  {
   "cell_type": "code",
   "execution_count": 237,
   "metadata": {},
   "outputs": [],
   "source": [
    "from shapely.geometry import Point, MultiPoint\n",
    "from shapely.ops import nearest_points\n",
    "import geopandas as gpd"
   ]
  },
  {
   "cell_type": "code",
   "execution_count": 238,
   "metadata": {},
   "outputs": [],
   "source": [
    "data_st = {'amenity':  ['skytrain', 'skytrain','skytrain', 'skytrain'],\n",
    "        'name': ['Burrard', 'Granville','Waterfront','Stadium'],\n",
    "        'lat':[49.2853095,49.2832795,49.2859559,49.279595],\n",
    "        'lon':[-123.1221708,-123.1183089,-123.1137529,-123.1119618]\n",
    "        }\n",
    "\n",
    "stations = pd.DataFrame(data_st, columns = ['amenity','name','lat','lon'])"
   ]
  },
  {
   "cell_type": "code",
   "execution_count": 239,
   "metadata": {},
   "outputs": [],
   "source": [
    "# adatped from https://towardsdatascience.com/nearest-neighbour-analysis-with-geospatial-data-7bcd95f34c0e\n",
    "def create_gdf(df, x='lon', y='lat'):\n",
    "    return gpd.GeoDataFrame(df, \n",
    "    geometry=gpd.points_from_xy(df[y], df[x]), \n",
    "             crs={'init':'EPSG:4326'})\n",
    "stations_gdf = create_gdf(stations)\n",
    "placeData_gdf = create_gdf(placeData)"
   ]
  },
  {
   "cell_type": "code",
   "execution_count": 240,
   "metadata": {},
   "outputs": [],
   "source": [
    "def calculate_nearest(row, destination, val, col='geometry'):\n",
    "    # 1 - create unary union    \n",
    "    dest_unary = destination['geometry'].unary_union\n",
    "    # 2 - find closest point\n",
    "    nearest_geom = nearest_points(row[col], dest_unary)\n",
    "    # 3 - Find the corresponding geom\n",
    "    match_geom = destination.loc[destination.geometry == nearest_geom[1]]\n",
    "    # 4 - get the corresponding value\n",
    "    match_value = match_geom[val].values[0]\n",
    "    return match_value"
   ]
  },
  {
   "cell_type": "code",
   "execution_count": 241,
   "metadata": {
    "scrolled": true
   },
   "outputs": [
    {
     "name": "stderr",
     "output_type": "stream",
     "text": [
      "C:\\Users\\lehuy\\Anaconda3\\lib\\site-packages\\ipykernel_launcher.py:2: SettingWithCopyWarning: \n",
      "A value is trying to be set on a copy of a slice from a DataFrame.\n",
      "Try using .loc[row_indexer,col_indexer] = value instead\n",
      "\n",
      "See the caveats in the documentation: http://pandas.pydata.org/pandas-docs/stable/indexing.html#indexing-view-versus-copy\n",
      "  \n",
      "C:\\Users\\lehuy\\Anaconda3\\lib\\site-packages\\ipykernel_launcher.py:3: SettingWithCopyWarning: \n",
      "A value is trying to be set on a copy of a slice from a DataFrame.\n",
      "Try using .loc[row_indexer,col_indexer] = value instead\n",
      "\n",
      "See the caveats in the documentation: http://pandas.pydata.org/pandas-docs/stable/indexing.html#indexing-view-versus-copy\n",
      "  This is separate from the ipykernel package so we can avoid doing imports until\n",
      "C:\\Users\\lehuy\\Anaconda3\\lib\\site-packages\\ipykernel_launcher.py:4: SettingWithCopyWarning: \n",
      "A value is trying to be set on a copy of a slice from a DataFrame.\n",
      "Try using .loc[row_indexer,col_indexer] = value instead\n",
      "\n",
      "See the caveats in the documentation: http://pandas.pydata.org/pandas-docs/stable/indexing.html#indexing-view-versus-copy\n",
      "  after removing the cwd from sys.path.\n",
      "C:\\Users\\lehuy\\Anaconda3\\lib\\site-packages\\ipykernel_launcher.py:5: SettingWithCopyWarning: \n",
      "A value is trying to be set on a copy of a slice from a DataFrame.\n",
      "Try using .loc[row_indexer,col_indexer] = value instead\n",
      "\n",
      "See the caveats in the documentation: http://pandas.pydata.org/pandas-docs/stable/indexing.html#indexing-view-versus-copy\n",
      "  \"\"\"\n",
      "C:\\Users\\lehuy\\Anaconda3\\lib\\site-packages\\ipykernel_launcher.py:6: SettingWithCopyWarning: \n",
      "A value is trying to be set on a copy of a slice from a DataFrame.\n",
      "Try using .loc[row_indexer,col_indexer] = value instead\n",
      "\n",
      "See the caveats in the documentation: http://pandas.pydata.org/pandas-docs/stable/indexing.html#indexing-view-versus-copy\n",
      "  \n",
      "C:\\Users\\lehuy\\Anaconda3\\lib\\site-packages\\ipykernel_launcher.py:2: SettingWithCopyWarning: \n",
      "A value is trying to be set on a copy of a slice from a DataFrame.\n",
      "Try using .loc[row_indexer,col_indexer] = value instead\n",
      "\n",
      "See the caveats in the documentation: http://pandas.pydata.org/pandas-docs/stable/indexing.html#indexing-view-versus-copy\n",
      "  \n",
      "C:\\Users\\lehuy\\Anaconda3\\lib\\site-packages\\ipykernel_launcher.py:3: SettingWithCopyWarning: \n",
      "A value is trying to be set on a copy of a slice from a DataFrame.\n",
      "Try using .loc[row_indexer,col_indexer] = value instead\n",
      "\n",
      "See the caveats in the documentation: http://pandas.pydata.org/pandas-docs/stable/indexing.html#indexing-view-versus-copy\n",
      "  This is separate from the ipykernel package so we can avoid doing imports until\n",
      "C:\\Users\\lehuy\\Anaconda3\\lib\\site-packages\\ipykernel_launcher.py:4: SettingWithCopyWarning: \n",
      "A value is trying to be set on a copy of a slice from a DataFrame.\n",
      "Try using .loc[row_indexer,col_indexer] = value instead\n",
      "\n",
      "See the caveats in the documentation: http://pandas.pydata.org/pandas-docs/stable/indexing.html#indexing-view-versus-copy\n",
      "  after removing the cwd from sys.path.\n",
      "C:\\Users\\lehuy\\Anaconda3\\lib\\site-packages\\ipykernel_launcher.py:5: SettingWithCopyWarning: \n",
      "A value is trying to be set on a copy of a slice from a DataFrame.\n",
      "Try using .loc[row_indexer,col_indexer] = value instead\n",
      "\n",
      "See the caveats in the documentation: http://pandas.pydata.org/pandas-docs/stable/indexing.html#indexing-view-versus-copy\n",
      "  \"\"\"\n",
      "C:\\Users\\lehuy\\Anaconda3\\lib\\site-packages\\ipykernel_launcher.py:2: SettingWithCopyWarning: \n",
      "A value is trying to be set on a copy of a slice from a DataFrame.\n",
      "Try using .loc[row_indexer,col_indexer] = value instead\n",
      "\n",
      "See the caveats in the documentation: http://pandas.pydata.org/pandas-docs/stable/indexing.html#indexing-view-versus-copy\n",
      "  \n",
      "C:\\Users\\lehuy\\Anaconda3\\lib\\site-packages\\ipykernel_launcher.py:3: SettingWithCopyWarning: \n",
      "A value is trying to be set on a copy of a slice from a DataFrame.\n",
      "Try using .loc[row_indexer,col_indexer] = value instead\n",
      "\n",
      "See the caveats in the documentation: http://pandas.pydata.org/pandas-docs/stable/indexing.html#indexing-view-versus-copy\n",
      "  This is separate from the ipykernel package so we can avoid doing imports until\n",
      "C:\\Users\\lehuy\\Anaconda3\\lib\\site-packages\\ipykernel_launcher.py:4: SettingWithCopyWarning: \n",
      "A value is trying to be set on a copy of a slice from a DataFrame.\n",
      "Try using .loc[row_indexer,col_indexer] = value instead\n",
      "\n",
      "See the caveats in the documentation: http://pandas.pydata.org/pandas-docs/stable/indexing.html#indexing-view-versus-copy\n",
      "  after removing the cwd from sys.path.\n",
      "C:\\Users\\lehuy\\Anaconda3\\lib\\site-packages\\ipykernel_launcher.py:5: SettingWithCopyWarning: \n",
      "A value is trying to be set on a copy of a slice from a DataFrame.\n",
      "Try using .loc[row_indexer,col_indexer] = value instead\n",
      "\n",
      "See the caveats in the documentation: http://pandas.pydata.org/pandas-docs/stable/indexing.html#indexing-view-versus-copy\n",
      "  \"\"\"\n",
      "C:\\Users\\lehuy\\Anaconda3\\lib\\site-packages\\ipykernel_launcher.py:6: SettingWithCopyWarning: \n",
      "A value is trying to be set on a copy of a slice from a DataFrame.\n",
      "Try using .loc[row_indexer,col_indexer] = value instead\n",
      "\n",
      "See the caveats in the documentation: http://pandas.pydata.org/pandas-docs/stable/indexing.html#indexing-view-versus-copy\n",
      "  \n",
      "C:\\Users\\lehuy\\Anaconda3\\lib\\site-packages\\ipykernel_launcher.py:2: SettingWithCopyWarning: \n",
      "A value is trying to be set on a copy of a slice from a DataFrame.\n",
      "Try using .loc[row_indexer,col_indexer] = value instead\n",
      "\n",
      "See the caveats in the documentation: http://pandas.pydata.org/pandas-docs/stable/indexing.html#indexing-view-versus-copy\n",
      "  \n",
      "C:\\Users\\lehuy\\Anaconda3\\lib\\site-packages\\ipykernel_launcher.py:3: SettingWithCopyWarning: \n",
      "A value is trying to be set on a copy of a slice from a DataFrame.\n",
      "Try using .loc[row_indexer,col_indexer] = value instead\n",
      "\n",
      "See the caveats in the documentation: http://pandas.pydata.org/pandas-docs/stable/indexing.html#indexing-view-versus-copy\n",
      "  This is separate from the ipykernel package so we can avoid doing imports until\n",
      "C:\\Users\\lehuy\\Anaconda3\\lib\\site-packages\\ipykernel_launcher.py:4: SettingWithCopyWarning: \n",
      "A value is trying to be set on a copy of a slice from a DataFrame.\n",
      "Try using .loc[row_indexer,col_indexer] = value instead\n",
      "\n",
      "See the caveats in the documentation: http://pandas.pydata.org/pandas-docs/stable/indexing.html#indexing-view-versus-copy\n",
      "  after removing the cwd from sys.path.\n",
      "C:\\Users\\lehuy\\Anaconda3\\lib\\site-packages\\ipykernel_launcher.py:5: SettingWithCopyWarning: \n",
      "A value is trying to be set on a copy of a slice from a DataFrame.\n",
      "Try using .loc[row_indexer,col_indexer] = value instead\n",
      "\n",
      "See the caveats in the documentation: http://pandas.pydata.org/pandas-docs/stable/indexing.html#indexing-view-versus-copy\n",
      "  \"\"\"\n",
      "C:\\Users\\lehuy\\Anaconda3\\lib\\site-packages\\ipykernel_launcher.py:2: SettingWithCopyWarning: \n",
      "A value is trying to be set on a copy of a slice from a DataFrame.\n",
      "Try using .loc[row_indexer,col_indexer] = value instead\n",
      "\n",
      "See the caveats in the documentation: http://pandas.pydata.org/pandas-docs/stable/indexing.html#indexing-view-versus-copy\n",
      "  \n",
      "C:\\Users\\lehuy\\Anaconda3\\lib\\site-packages\\ipykernel_launcher.py:3: SettingWithCopyWarning: \n",
      "A value is trying to be set on a copy of a slice from a DataFrame.\n",
      "Try using .loc[row_indexer,col_indexer] = value instead\n",
      "\n",
      "See the caveats in the documentation: http://pandas.pydata.org/pandas-docs/stable/indexing.html#indexing-view-versus-copy\n",
      "  This is separate from the ipykernel package so we can avoid doing imports until\n",
      "C:\\Users\\lehuy\\Anaconda3\\lib\\site-packages\\ipykernel_launcher.py:4: SettingWithCopyWarning: \n",
      "A value is trying to be set on a copy of a slice from a DataFrame.\n",
      "Try using .loc[row_indexer,col_indexer] = value instead\n",
      "\n",
      "See the caveats in the documentation: http://pandas.pydata.org/pandas-docs/stable/indexing.html#indexing-view-versus-copy\n",
      "  after removing the cwd from sys.path.\n",
      "C:\\Users\\lehuy\\Anaconda3\\lib\\site-packages\\ipykernel_launcher.py:5: SettingWithCopyWarning: \n",
      "A value is trying to be set on a copy of a slice from a DataFrame.\n",
      "Try using .loc[row_indexer,col_indexer] = value instead\n",
      "\n",
      "See the caveats in the documentation: http://pandas.pydata.org/pandas-docs/stable/indexing.html#indexing-view-versus-copy\n",
      "  \"\"\"\n",
      "C:\\Users\\lehuy\\Anaconda3\\lib\\site-packages\\ipykernel_launcher.py:6: SettingWithCopyWarning: \n",
      "A value is trying to be set on a copy of a slice from a DataFrame.\n",
      "Try using .loc[row_indexer,col_indexer] = value instead\n",
      "\n",
      "See the caveats in the documentation: http://pandas.pydata.org/pandas-docs/stable/indexing.html#indexing-view-versus-copy\n",
      "  \n"
     ]
    },
    {
     "name": "stderr",
     "output_type": "stream",
     "text": [
      "C:\\Users\\lehuy\\Anaconda3\\lib\\site-packages\\ipykernel_launcher.py:2: SettingWithCopyWarning: \n",
      "A value is trying to be set on a copy of a slice from a DataFrame.\n",
      "Try using .loc[row_indexer,col_indexer] = value instead\n",
      "\n",
      "See the caveats in the documentation: http://pandas.pydata.org/pandas-docs/stable/indexing.html#indexing-view-versus-copy\n",
      "  \n",
      "C:\\Users\\lehuy\\Anaconda3\\lib\\site-packages\\ipykernel_launcher.py:3: SettingWithCopyWarning: \n",
      "A value is trying to be set on a copy of a slice from a DataFrame.\n",
      "Try using .loc[row_indexer,col_indexer] = value instead\n",
      "\n",
      "See the caveats in the documentation: http://pandas.pydata.org/pandas-docs/stable/indexing.html#indexing-view-versus-copy\n",
      "  This is separate from the ipykernel package so we can avoid doing imports until\n",
      "C:\\Users\\lehuy\\Anaconda3\\lib\\site-packages\\ipykernel_launcher.py:4: SettingWithCopyWarning: \n",
      "A value is trying to be set on a copy of a slice from a DataFrame.\n",
      "Try using .loc[row_indexer,col_indexer] = value instead\n",
      "\n",
      "See the caveats in the documentation: http://pandas.pydata.org/pandas-docs/stable/indexing.html#indexing-view-versus-copy\n",
      "  after removing the cwd from sys.path.\n",
      "C:\\Users\\lehuy\\Anaconda3\\lib\\site-packages\\ipykernel_launcher.py:5: SettingWithCopyWarning: \n",
      "A value is trying to be set on a copy of a slice from a DataFrame.\n",
      "Try using .loc[row_indexer,col_indexer] = value instead\n",
      "\n",
      "See the caveats in the documentation: http://pandas.pydata.org/pandas-docs/stable/indexing.html#indexing-view-versus-copy\n",
      "  \"\"\"\n",
      "C:\\Users\\lehuy\\Anaconda3\\lib\\site-packages\\ipykernel_launcher.py:2: SettingWithCopyWarning: \n",
      "A value is trying to be set on a copy of a slice from a DataFrame.\n",
      "Try using .loc[row_indexer,col_indexer] = value instead\n",
      "\n",
      "See the caveats in the documentation: http://pandas.pydata.org/pandas-docs/stable/indexing.html#indexing-view-versus-copy\n",
      "  \n",
      "C:\\Users\\lehuy\\Anaconda3\\lib\\site-packages\\ipykernel_launcher.py:3: SettingWithCopyWarning: \n",
      "A value is trying to be set on a copy of a slice from a DataFrame.\n",
      "Try using .loc[row_indexer,col_indexer] = value instead\n",
      "\n",
      "See the caveats in the documentation: http://pandas.pydata.org/pandas-docs/stable/indexing.html#indexing-view-versus-copy\n",
      "  This is separate from the ipykernel package so we can avoid doing imports until\n",
      "C:\\Users\\lehuy\\Anaconda3\\lib\\site-packages\\ipykernel_launcher.py:4: SettingWithCopyWarning: \n",
      "A value is trying to be set on a copy of a slice from a DataFrame.\n",
      "Try using .loc[row_indexer,col_indexer] = value instead\n",
      "\n",
      "See the caveats in the documentation: http://pandas.pydata.org/pandas-docs/stable/indexing.html#indexing-view-versus-copy\n",
      "  after removing the cwd from sys.path.\n",
      "C:\\Users\\lehuy\\Anaconda3\\lib\\site-packages\\ipykernel_launcher.py:5: SettingWithCopyWarning: \n",
      "A value is trying to be set on a copy of a slice from a DataFrame.\n",
      "Try using .loc[row_indexer,col_indexer] = value instead\n",
      "\n",
      "See the caveats in the documentation: http://pandas.pydata.org/pandas-docs/stable/indexing.html#indexing-view-versus-copy\n",
      "  \"\"\"\n",
      "C:\\Users\\lehuy\\Anaconda3\\lib\\site-packages\\ipykernel_launcher.py:6: SettingWithCopyWarning: \n",
      "A value is trying to be set on a copy of a slice from a DataFrame.\n",
      "Try using .loc[row_indexer,col_indexer] = value instead\n",
      "\n",
      "See the caveats in the documentation: http://pandas.pydata.org/pandas-docs/stable/indexing.html#indexing-view-versus-copy\n",
      "  \n",
      "C:\\Users\\lehuy\\Anaconda3\\lib\\site-packages\\ipykernel_launcher.py:2: SettingWithCopyWarning: \n",
      "A value is trying to be set on a copy of a slice from a DataFrame.\n",
      "Try using .loc[row_indexer,col_indexer] = value instead\n",
      "\n",
      "See the caveats in the documentation: http://pandas.pydata.org/pandas-docs/stable/indexing.html#indexing-view-versus-copy\n",
      "  \n",
      "C:\\Users\\lehuy\\Anaconda3\\lib\\site-packages\\ipykernel_launcher.py:3: SettingWithCopyWarning: \n",
      "A value is trying to be set on a copy of a slice from a DataFrame.\n",
      "Try using .loc[row_indexer,col_indexer] = value instead\n",
      "\n",
      "See the caveats in the documentation: http://pandas.pydata.org/pandas-docs/stable/indexing.html#indexing-view-versus-copy\n",
      "  This is separate from the ipykernel package so we can avoid doing imports until\n",
      "C:\\Users\\lehuy\\Anaconda3\\lib\\site-packages\\ipykernel_launcher.py:4: SettingWithCopyWarning: \n",
      "A value is trying to be set on a copy of a slice from a DataFrame.\n",
      "Try using .loc[row_indexer,col_indexer] = value instead\n",
      "\n",
      "See the caveats in the documentation: http://pandas.pydata.org/pandas-docs/stable/indexing.html#indexing-view-versus-copy\n",
      "  after removing the cwd from sys.path.\n",
      "C:\\Users\\lehuy\\Anaconda3\\lib\\site-packages\\ipykernel_launcher.py:5: SettingWithCopyWarning: \n",
      "A value is trying to be set on a copy of a slice from a DataFrame.\n",
      "Try using .loc[row_indexer,col_indexer] = value instead\n",
      "\n",
      "See the caveats in the documentation: http://pandas.pydata.org/pandas-docs/stable/indexing.html#indexing-view-versus-copy\n",
      "  \"\"\"\n"
     ]
    }
   ],
   "source": [
    "def df_nearest(station,data):\n",
    "    station['nearest_geom'] = station.apply(calculate_nearest, destination=data, val='geometry', axis=1)\n",
    "    station['nearest_place'] = station.apply(calculate_nearest, destination=data, val='name', axis=1)\n",
    "    station['nearest_amenity'] = station.apply(calculate_nearest, destination=data, val='amenity', axis=1)\n",
    "    station['nearest_lat'] = station.apply(calculate_nearest, destination=data, val='lat', axis=1)\n",
    "    station['nearest_lon'] = station.apply(calculate_nearest, destination=data, val='lon', axis=1)\n",
    "    station = station[['nearest_amenity','nearest_place','nearest_geom','nearest_lat','nearest_lon']]\n",
    "    station.columns = ['amenity','name','geometry','lat','lon']\n",
    "    return(station)\n",
    "    \n",
    "def get_route(station,data = placeData_gdf):\n",
    "    station_data = stations_gdf[stations_gdf['name'] == station]\n",
    "    result = pd.DataFrame(columns=['amenity','name','geometry','lat','lon'])\n",
    "\n",
    "    nearest = df_nearest(station_data,data)\n",
    "    result = result.append(nearest)\n",
    "    data = data[data['name']!= nearest['name'].values[0]]\n",
    "    \n",
    "    nearest = df_nearest(nearest,data)\n",
    "    result = result.append(nearest)\n",
    "    data = data[data['name']!= nearest['name'].values[0] ]\n",
    "    \n",
    "    nearest = df_nearest(nearest,data)\n",
    "    result = result.append(nearest)\n",
    "    data = data[data['name']!= nearest['name'].values[0] ]\n",
    "    \n",
    "    nearest = df_nearest(nearest,data)\n",
    "    result = result.append(nearest)\n",
    "    data = data[data['name']!= nearest['name'].values[0] ]\n",
    "    \n",
    "    nearest = df_nearest(nearest,data)\n",
    "    result = result.append(nearest)\n",
    "#     data = data[data['name']!= nearest['name'].values[0] & data['amenity']!=nearest['amenity'].values[0]]\n",
    "    return(result)\n",
    "    \n",
    "br = get_route(station = 'Burrard',data = placeData_gdf)\n",
    "gv = get_route(station = 'Granville',data = placeData_gdf)\n",
    "wf = get_route(station = 'Waterfront',data = placeData_gdf)\n",
    "sd = get_route(station = 'Stadium',data = placeData_gdf)\n",
    "\n",
    "#                          & data['amenity']!=nearest['nearest_amenity'].values[0]]"
   ]
  },
  {
   "cell_type": "code",
   "execution_count": 250,
   "metadata": {},
   "outputs": [
    {
     "data": {
      "text/html": [
       "<div style=\"width:100%;\"><div style=\"position:relative;width:100%;height:0;padding-bottom:60%;\"><span style=\"color:#565656\">Make this Notebook Trusted to load map: File -> Trust Notebook</span><iframe src=\"about:blank\" style=\"position:absolute;width:100%;height:100%;left:0;top:0;border:none !important;\" data-html=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 onload=\"this.contentDocument.open();this.contentDocument.write(atob(this.getAttribute('data-html')));this.contentDocument.close();\" allowfullscreen webkitallowfullscreen mozallowfullscreen></iframe></div></div>"
      ],
      "text/plain": [
       "<folium.folium.Map at 0x2867124bbe0>"
      ]
     },
     "execution_count": 250,
     "metadata": {},
     "output_type": "execute_result"
    }
   ],
   "source": [
    "placeList = gv['name'].values.tolist()\n",
    "placeDataPlot = gv[['lat','lon']]\n",
    "locationlist = placeDataPlot.values.tolist()\n",
    "\n",
    "map =folium.Map(location=[49.282730, -123.120735], zoom_start=15)\n",
    "\n",
    "for point in range(0, len(locationlist)):\n",
    "    folium.Marker(locationlist[point], popup = placeList[point]).add_to(map)\n",
    "\n",
    "map"
   ]
  },
  {
   "cell_type": "code",
   "execution_count": 256,
   "metadata": {},
   "outputs": [
    {
     "data": {
      "text/html": [
       "<div style=\"width:100%;\"><div style=\"position:relative;width:100%;height:0;padding-bottom:60%;\"><span style=\"color:#565656\">Make this Notebook Trusted to load map: File -> Trust Notebook</span><iframe src=\"about:blank\" style=\"position:absolute;width:100%;height:100%;left:0;top:0;border:none !important;\" data-html=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 onload=\"this.contentDocument.open();this.contentDocument.write(atob(this.getAttribute('data-html')));this.contentDocument.close();\" allowfullscreen webkitallowfullscreen mozallowfullscreen></iframe></div></div>"
      ],
      "text/plain": [
       "<folium.folium.Map at 0x2866fe29a20>"
      ]
     },
     "execution_count": 256,
     "metadata": {},
     "output_type": "execute_result"
    }
   ],
   "source": [
    "placeList = wf['name'].values.tolist()\n",
    "placeDataPlot = wf[['lat','lon']]\n",
    "locationlist = placeDataPlot.values.tolist()\n",
    "\n",
    "map =folium.Map(location=[49.2859559,-123.1137529], zoom_start=15)\n",
    "\n",
    "for point in range(0, len(locationlist)):\n",
    "    folium.Marker(locationlist[point], popup = placeList[point]).add_to(map)\n",
    "\n",
    "map"
   ]
  },
  {
   "cell_type": "code",
   "execution_count": 259,
   "metadata": {},
   "outputs": [
    {
     "data": {
      "text/html": [
       "<div style=\"width:100%;\"><div style=\"position:relative;width:100%;height:0;padding-bottom:60%;\"><span style=\"color:#565656\">Make this Notebook Trusted to load map: File -> Trust Notebook</span><iframe src=\"about:blank\" style=\"position:absolute;width:100%;height:100%;left:0;top:0;border:none !important;\" data-html=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 onload=\"this.contentDocument.open();this.contentDocument.write(atob(this.getAttribute('data-html')));this.contentDocument.close();\" allowfullscreen webkitallowfullscreen mozallowfullscreen></iframe></div></div>"
      ],
      "text/plain": [
       "<folium.folium.Map at 0x2866fe21be0>"
      ]
     },
     "execution_count": 259,
     "metadata": {},
     "output_type": "execute_result"
    }
   ],
   "source": [
    "placeList = sd['name'].values.tolist()\n",
    "placeDataPlot = sd[['lat','lon']]\n",
    "locationlist = placeDataPlot.values.tolist()\n",
    "\n",
    "map =folium.Map(location=[49.279595,-123.1119618], zoom_start=15)\n",
    "\n",
    "for point in range(0, len(locationlist)):\n",
    "    folium.Marker(locationlist[point], popup = placeList[point]).add_to(map)\n",
    "\n",
    "map"
   ]
  },
  {
   "cell_type": "code",
   "execution_count": null,
   "metadata": {},
   "outputs": [],
   "source": []
  }
 ],
 "metadata": {
  "kernelspec": {
   "display_name": "Python 3",
   "language": "python",
   "name": "python3"
  },
  "language_info": {
   "codemirror_mode": {
    "name": "ipython",
    "version": 3
   },
   "file_extension": ".py",
   "mimetype": "text/x-python",
   "name": "python",
   "nbconvert_exporter": "python",
   "pygments_lexer": "ipython3",
   "version": "3.7.1"
  }
 },
 "nbformat": 4,
 "nbformat_minor": 2
}
