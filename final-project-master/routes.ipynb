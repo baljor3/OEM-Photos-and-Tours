{
 "cells": [
  {
   "cell_type": "code",
   "execution_count": 260,
   "metadata": {},
   "outputs": [],
   "source": [
    "import pandas as pd\n",
    "import numpy as np"
   ]
  },
  {
   "cell_type": "code",
   "execution_count": 62,
   "metadata": {},
   "outputs": [],
   "source": [
    "data = pd.read_json('amenities-vancouver.json.gz', lines = True, encoding=\"utf8\")"
   ]
  },
  {
   "cell_type": "code",
   "execution_count": 63,
   "metadata": {
    "scrolled": true
   },
   "outputs": [],
   "source": [
    "data = data.drop('timestamp', axis = 1)\n",
    "# data = data['amenity'].drop_duplicates()"
   ]
  },
  {
   "cell_type": "code",
   "execution_count": 64,
   "metadata": {},
   "outputs": [
    {
     "name": "stdout",
     "output_type": "stream",
     "text": [
      "49.0012885\n",
      "49.4633008\n",
      "-123.4998587\n",
      "-122.0006559\n"
     ]
    }
   ],
   "source": [
    "print(data['lat'].min())\n",
    "print(data['lat'].max())\n",
    "print(data['lon'].min())\n",
    "print(data['lon'].max())"
   ]
  },
  {
   "cell_type": "code",
   "execution_count": 5,
   "metadata": {},
   "outputs": [],
   "source": [
    "# data.groupby('amenity').count()\n",
    "# to_csv('agg.csv')"
   ]
  },
  {
   "cell_type": "code",
   "execution_count": 65,
   "metadata": {},
   "outputs": [],
   "source": [
    "food = ['cafe', 'fast_food', 'restaurant','pub','bistro','bar','ice_cream',\n",
    "        'biergarten','food_court']\n",
    "drink = ['juice_bar', 'internet_cafe']\n",
    "place = ['public_building',  'clock', 'marketplace',\n",
    "         'conference_centre','Observation Platform','watering_place',\n",
    "         'arts_centre','park', 'casino', 'shop|clothes','townhall' ]\n",
    "car = ['car_rental','charging_station', 'car_sharing','fuel','EVSE']\n",
    "parking = ['parking_entrance','parking','parking_space']\n",
    "walk = ['taxi', 'bus_station']\n",
    "bike = ['bicycle_parking','bicycle_rental']\n",
    "boat = ['boat_rental']\n",
    "moto = ['motorcycle_rental','motorcycle_parking']"
   ]
  },
  {
   "cell_type": "code",
   "execution_count": 66,
   "metadata": {},
   "outputs": [],
   "source": [
    "interesting = food+drink+place+car+parking+walk+bike+boat+moto\n",
    "intPlace = data[data['amenity'].isin(interesting)]"
   ]
  },
  {
   "cell_type": "code",
   "execution_count": 67,
   "metadata": {},
   "outputs": [
    {
     "data": {
      "text/plain": [
       "(7890, 5)"
      ]
     },
     "execution_count": 67,
     "metadata": {},
     "output_type": "execute_result"
    }
   ],
   "source": [
    "intPlace.shape"
   ]
  },
  {
   "cell_type": "code",
   "execution_count": 9,
   "metadata": {},
   "outputs": [],
   "source": [
    "# TODO: distribution of those places, how many of each"
   ]
  },
  {
   "cell_type": "code",
   "execution_count": 10,
   "metadata": {},
   "outputs": [],
   "source": [
    "# clean data with only 'interesting places'\n",
    "# intPlace.groupby('amenity').count()"
   ]
  },
  {
   "cell_type": "code",
   "execution_count": 69,
   "metadata": {},
   "outputs": [],
   "source": [
    "import sys\n",
    "import folium\n",
    "import folium.plugins as fp\n",
    "%matplotlib inline\n",
    "import matplotlib.pyplot as plt"
   ]
  },
  {
   "cell_type": "code",
   "execution_count": 70,
   "metadata": {},
   "outputs": [],
   "source": [
    "# split tags dict to columns and drop tags\n",
    "intPlace = intPlace.join(intPlace['tags'].apply(pd.Series))\n",
    "intPlace = intPlace.drop('tags', axis = 1)"
   ]
  },
  {
   "cell_type": "code",
   "execution_count": 71,
   "metadata": {},
   "outputs": [],
   "source": [
    "# number of records for each tag column\n",
    "nTags = intPlace.count().reset_index().sort_values(by = 0, ascending = False)\n",
    "nTags.columns = ['amenity','count_tags']\n",
    "# nTags.to_csv('nTags.csv')"
   ]
  },
  {
   "cell_type": "code",
   "execution_count": 261,
   "metadata": {},
   "outputs": [
    {
     "data": {
      "text/html": [
       "<div>\n",
       "<style scoped>\n",
       "    .dataframe tbody tr th:only-of-type {\n",
       "        vertical-align: middle;\n",
       "    }\n",
       "\n",
       "    .dataframe tbody tr th {\n",
       "        vertical-align: top;\n",
       "    }\n",
       "\n",
       "    .dataframe thead th {\n",
       "        text-align: right;\n",
       "    }\n",
       "</style>\n",
       "<table border=\"1\" class=\"dataframe\">\n",
       "  <thead>\n",
       "    <tr style=\"text-align: right;\">\n",
       "      <th></th>\n",
       "      <th>amenity</th>\n",
       "      <th>name</th>\n",
       "      <th>addr:street</th>\n",
       "    </tr>\n",
       "  </thead>\n",
       "  <tbody>\n",
       "    <tr>\n",
       "      <th>1659</th>\n",
       "      <td>conference_centre</td>\n",
       "      <td>Vancouver Convention Centre East</td>\n",
       "      <td>Canada Place</td>\n",
       "    </tr>\n",
       "    <tr>\n",
       "      <th>2885</th>\n",
       "      <td>pub</td>\n",
       "      <td>Tap &amp; Barrel</td>\n",
       "      <td>Canada Place</td>\n",
       "    </tr>\n",
       "    <tr>\n",
       "      <th>9084</th>\n",
       "      <td>restaurant</td>\n",
       "      <td>Botanist</td>\n",
       "      <td>Canada Place</td>\n",
       "    </tr>\n",
       "    <tr>\n",
       "      <th>10743</th>\n",
       "      <td>restaurant</td>\n",
       "      <td>Mahony and Sons</td>\n",
       "      <td>Canada Place</td>\n",
       "    </tr>\n",
       "    <tr>\n",
       "      <th>15921</th>\n",
       "      <td>cafe</td>\n",
       "      <td>Starbucks</td>\n",
       "      <td>Canada Place</td>\n",
       "    </tr>\n",
       "  </tbody>\n",
       "</table>\n",
       "</div>"
      ],
      "text/plain": [
       "                 amenity                              name   addr:street\n",
       "1659   conference_centre  Vancouver Convention Centre East  Canada Place\n",
       "2885                 pub                      Tap & Barrel  Canada Place\n",
       "9084          restaurant                          Botanist  Canada Place\n",
       "10743         restaurant                   Mahony and Sons  Canada Place\n",
       "15921               cafe                         Starbucks  Canada Place"
      ]
     },
     "execution_count": 261,
     "metadata": {},
     "output_type": "execute_result"
    }
   ],
   "source": [
    "# found canada place\n",
    "intPlace[intPlace['addr:street'] == 'Canada Place'][['amenity','name','addr:street']]"
   ]
  },
  {
   "cell_type": "code",
   "execution_count": 73,
   "metadata": {},
   "outputs": [],
   "source": [
    "# fill nan name with alt_name and drop alt_name\n",
    "intPlace['name'] = intPlace['name'].fillna(intPlace['alt_name'])\n",
    "intPlace['name'] = intPlace['name'].fillna(intPlace['official_name'])\n",
    "# only keep columns with more than 100 records\n",
    "columnKeep = list(nTags[nTags['count_tags'] > 1000]['amenity'])\n",
    "intPlace = intPlace[columnKeep]\n",
    "\n",
    "placeData = intPlace[intPlace['amenity'].isin(place)]"
   ]
  },
  {
   "cell_type": "code",
   "execution_count": 74,
   "metadata": {},
   "outputs": [
    {
     "data": {
      "text/plain": [
       "(56, 15)"
      ]
     },
     "execution_count": 74,
     "metadata": {},
     "output_type": "execute_result"
    }
   ],
   "source": [
    "placeData.shape"
   ]
  },
  {
   "cell_type": "code",
   "execution_count": 75,
   "metadata": {},
   "outputs": [],
   "source": [
    "visitData = pd.read_csv('HLLBC_ATT.csv')\n",
    "# trim semi colon:\n",
    "def trim_semi(st):\n",
    "    st = st.replace(' ;','')\n",
    "    return(st)\n",
    "visitData['DESCRIPTN'] = visitData['DESCRIPTN'].apply(trim_semi)\n",
    "visitData = visitData[['DESCRIPTN','NAME','LATITUDE','LONGITUDE']]\n",
    "visitKeep = ['Historic & Heritage Sites','Wineries','Wildlife Viewing - Whale Watching',\n",
    "'Hiking - Hiking', 'Ziplining & Bungee Jumping','Kayaking & Canoeing - River',\n",
    "'Kayaking & Canoeing - Ocean','Museums','Art Galleries', 'Parks - Provincial',\n",
    "'Amusement Parks','Museums - Aboriginal Museums','Kayaking & Canoeing - Lake',\n",
    "'Water Parks & Slides','Gardens & City Parks','Bridges, Buildings & Structures',\n",
    "'Wildlife Viewing - Bird Watching', 'Shops & Malls','Science & Nature',\n",
    "'Parks - National','Skiing & Snowboarding - Heli Skiing', 'Airtrams & Gondolas',\n",
    "'Observatories & Planetariums','Aquariums','Historical & Heritage Sites - Aboriginal Sites','Hot Springs']\n",
    "visitData = visitData[visitData['DESCRIPTN'].isin(visitKeep)]\n",
    "visitData.columns = ['amenity','name','lat','lon']\n",
    "\n",
    "placeData = pd.concat([placeData, visitData], sort=False)"
   ]
  },
  {
   "cell_type": "code",
   "execution_count": 158,
   "metadata": {},
   "outputs": [],
   "source": [
    "parks= pd.read_json('parks.json')\n",
    "# split tags dict to columns and drop tags\n",
    "parks = parks.join(parks['fields'].apply(pd.Series))\n",
    "parks = parks.drop('fields', axis = 1)\n",
    "# split tags dict to columns and drop tags\n",
    "parks = parks.join(parks['geometry'].apply(pd.Series))\n",
    "parks = parks.drop('geometry', axis = 1)\n",
    "parks = parks[['datasetid','name','googlemapdest','hectare']]\n",
    "googlemapdest = pd.DataFrame(parks['googlemapdest'].tolist(), columns=['lat','lon'])\n",
    "parks= parks.join(googlemapdest)\n",
    "parks = parks.drop('googlemapdest', axis = 1)\n",
    "parks = parks[parks['hectare'] >= 6]\n",
    "# # parks.columns = ['amenity','name','lat','lon']"
   ]
  },
  {
   "cell_type": "code",
   "execution_count": 77,
   "metadata": {},
   "outputs": [],
   "source": [
    "# join parks and cults to intPlace\n",
    "parks['amenity'] = 'park'\n",
    "placeData = pd.concat([placeData, parks], sort=False)"
   ]
  },
  {
   "cell_type": "code",
   "execution_count": 78,
   "metadata": {},
   "outputs": [],
   "source": [
    "from shapely.geometry import Point, MultiPoint\n",
    "from shapely.ops import nearest_points\n",
    "import geopandas as gpd"
   ]
  },
  {
   "cell_type": "code",
   "execution_count": 79,
   "metadata": {},
   "outputs": [],
   "source": [
    "data_st = {'amenity':  ['skytrain', 'skytrain','skytrain', 'skytrain'],\n",
    "        'name': ['Burrard', 'Granville','Waterfront','Stadium'],\n",
    "        'lat':[49.2853095,49.2832795,49.2859559,49.279595],\n",
    "        'lon':[-123.1221708,-123.1183089,-123.1137529,-123.1119618]\n",
    "        }\n",
    "\n",
    "stations = pd.DataFrame(data_st, columns = ['amenity','name','lat','lon'])"
   ]
  },
  {
   "cell_type": "code",
   "execution_count": 80,
   "metadata": {},
   "outputs": [],
   "source": [
    "# adatped from https://towardsdatascience.com/nearest-neighbour-analysis-with-geospatial-data-7bcd95f34c0e\n",
    "def create_gdf(df, x='lon', y='lat'):\n",
    "    return gpd.GeoDataFrame(df, \n",
    "    geometry=gpd.points_from_xy(df[y], df[x]), \n",
    "             crs={'init':'EPSG:4326'})\n",
    "stations_gdf = create_gdf(stations)\n",
    "placeData_gdf = create_gdf(placeData)"
   ]
  },
  {
   "cell_type": "code",
   "execution_count": 81,
   "metadata": {},
   "outputs": [],
   "source": [
    "# adatped from https://towardsdatascience.com/nearest-neighbour-analysis-with-geospatial-data-7bcd95f34c0e\n",
    "def calculate_nearest(row, destination, val, col='geometry'):\n",
    "    # 1 - create unary union    \n",
    "    dest_unary = destination['geometry'].unary_union\n",
    "    # 2 - find closest point\n",
    "    nearest_geom = nearest_points(row[col], dest_unary)\n",
    "    # 3 - Find the corresponding geom\n",
    "    match_geom = destination.loc[destination.geometry == nearest_geom[1]]\n",
    "    # 4 - get the corresponding value\n",
    "    match_value = match_geom[val].values[0]\n",
    "    return match_value"
   ]
  },
  {
   "cell_type": "code",
   "execution_count": 90,
   "metadata": {
    "scrolled": true
   },
   "outputs": [],
   "source": [
    "import warnings\n",
    "warnings.filterwarnings(\"ignore\")\n",
    "def df_nearest(station,data):\n",
    "    station['nearest_geom'] = station.apply(calculate_nearest, destination=data, val='geometry', axis=1)\n",
    "    station['nearest_place'] = station.apply(calculate_nearest, destination=data, val='name', axis=1)\n",
    "    station['nearest_amenity'] = station.apply(calculate_nearest, destination=data, val='amenity', axis=1)\n",
    "    station['nearest_lat'] = station.apply(calculate_nearest, destination=data, val='lat', axis=1)\n",
    "    station['nearest_lon'] = station.apply(calculate_nearest, destination=data, val='lon', axis=1)\n",
    "    station = station[['nearest_amenity','nearest_place','nearest_geom','nearest_lat','nearest_lon']]\n",
    "    station.columns = ['amenity','name','geometry','lat','lon']\n",
    "    return(station)\n",
    "    \n",
    "def get_route(station,data = placeData_gdf):\n",
    "    station_data = stations_gdf[stations_gdf['name'] == station]\n",
    "    result = pd.DataFrame(columns=['amenity','name','geometry','lat','lon'])\n",
    "\n",
    "    nearest = df_nearest(station_data,data)\n",
    "    result = result.append(nearest)\n",
    "    data = data[data['name']!= nearest['name'].values[0]]\n",
    "    \n",
    "    nearest = df_nearest(nearest,data)\n",
    "    result = result.append(nearest)\n",
    "    data = data[data['name']!= nearest['name'].values[0] ]\n",
    "    \n",
    "    nearest = df_nearest(nearest,data)\n",
    "    result = result.append(nearest)\n",
    "    data = data[data['name']!= nearest['name'].values[0] ]\n",
    "    \n",
    "    nearest = df_nearest(nearest,data)\n",
    "    result = result.append(nearest)\n",
    "    data = data[data['name']!= nearest['name'].values[0] ]\n",
    "    \n",
    "    nearest = df_nearest(nearest,data)\n",
    "    result = result.append(nearest)\n",
    "    data = data[data['name']!= nearest['name'].values[0]]\n",
    "    \n",
    "    return(result)\n",
    "    \n",
    "br = get_route(station = 'Burrard',data = placeData_gdf)\n",
    "gv = get_route(station = 'Granville',data = placeData_gdf)\n",
    "wf = get_route(station = 'Waterfront',data = placeData_gdf)\n",
    "sd = get_route(station = 'Stadium',data = placeData_gdf)\n"
   ]
  },
  {
   "cell_type": "code",
   "execution_count": 91,
   "metadata": {
    "collapsed": true
   },
   "outputs": [
    {
     "data": {
      "text/html": [
       "<div style=\"width:100%;\"><div style=\"position:relative;width:100%;height:0;padding-bottom:60%;\"><span style=\"color:#565656\">Make this Notebook Trusted to load map: File -> Trust Notebook</span><iframe src=\"about:blank\" style=\"position:absolute;width:100%;height:100%;left:0;top:0;border:none !important;\" data-html=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 onload=\"this.contentDocument.open();this.contentDocument.write(atob(this.getAttribute('data-html')));this.contentDocument.close();\" allowfullscreen webkitallowfullscreen mozallowfullscreen></iframe></div></div>"
      ],
      "text/plain": [
       "<folium.folium.Map at 0x2c57ba2f588>"
      ]
     },
     "execution_count": 91,
     "metadata": {},
     "output_type": "execute_result"
    }
   ],
   "source": [
    "placeList = br['name'].values.tolist()\n",
    "placeDataPlot = br[['lat','lon']]\n",
    "locationlist = placeDataPlot.values.tolist()\n",
    "\n",
    "map =folium.Map(location=[49.2833354,-123.1205796], zoom_start=16)\n",
    "\n",
    "for point in range(0, len(locationlist)):\n",
    "    folium.Marker(locationlist[point], popup = placeList[point]).add_to(map)\n",
    "\n",
    "map"
   ]
  },
  {
   "cell_type": "code",
   "execution_count": 92,
   "metadata": {
    "collapsed": true
   },
   "outputs": [
    {
     "data": {
      "text/html": [
       "<div style=\"width:100%;\"><div style=\"position:relative;width:100%;height:0;padding-bottom:60%;\"><span style=\"color:#565656\">Make this Notebook Trusted to load map: File -> Trust Notebook</span><iframe src=\"about:blank\" style=\"position:absolute;width:100%;height:100%;left:0;top:0;border:none !important;\" data-html=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 onload=\"this.contentDocument.open();this.contentDocument.write(atob(this.getAttribute('data-html')));this.contentDocument.close();\" allowfullscreen webkitallowfullscreen mozallowfullscreen></iframe></div></div>"
      ],
      "text/plain": [
       "<folium.folium.Map at 0x2c57b9a2a90>"
      ]
     },
     "execution_count": 92,
     "metadata": {},
     "output_type": "execute_result"
    }
   ],
   "source": [
    "placeList = gv['name'].values.tolist()\n",
    "placeDataPlot = gv[['lat','lon']]\n",
    "locationlist = placeDataPlot.values.tolist()\n",
    "\n",
    "map =folium.Map(location=[49.2832795, -123.1183089], zoom_start=16)\n",
    "\n",
    "for point in range(0, len(locationlist)):\n",
    "    folium.Marker(locationlist[point], popup = placeList[point]).add_to(map)\n",
    "\n",
    "map\n",
    "# this is the toursit attraction that you can walk from granville"
   ]
  },
  {
   "cell_type": "code",
   "execution_count": 48,
   "metadata": {
    "collapsed": true
   },
   "outputs": [
    {
     "data": {
      "text/html": [
       "<div style=\"width:100%;\"><div style=\"position:relative;width:100%;height:0;padding-bottom:60%;\"><span style=\"color:#565656\">Make this Notebook Trusted to load map: File -> Trust Notebook</span><iframe src=\"about:blank\" style=\"position:absolute;width:100%;height:100%;left:0;top:0;border:none !important;\" data-html=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 onload=\"this.contentDocument.open();this.contentDocument.write(atob(this.getAttribute('data-html')));this.contentDocument.close();\" allowfullscreen webkitallowfullscreen mozallowfullscreen></iframe></div></div>"
      ],
      "text/plain": [
       "<folium.folium.Map at 0x2c57b887780>"
      ]
     },
     "execution_count": 48,
     "metadata": {},
     "output_type": "execute_result"
    }
   ],
   "source": [
    "placeList = wf['name'].values.tolist()\n",
    "placeDataPlot = wf[['lat','lon']]\n",
    "locationlist = placeDataPlot.values.tolist()\n",
    "\n",
    "map =folium.Map(location=[49.2859559,-123.1137529], zoom_start=16)\n",
    "\n",
    "for point in range(0, len(locationlist)):\n",
    "    folium.Marker(locationlist[point], popup = placeList[point]).add_to(map)\n",
    "\n",
    "map"
   ]
  },
  {
   "cell_type": "code",
   "execution_count": 108,
   "metadata": {},
   "outputs": [
    {
     "data": {
      "text/html": [
       "<div style=\"width:100%;\"><div style=\"position:relative;width:100%;height:0;padding-bottom:60%;\"><span style=\"color:#565656\">Make this Notebook Trusted to load map: File -> Trust Notebook</span><iframe src=\"about:blank\" style=\"position:absolute;width:100%;height:100%;left:0;top:0;border:none !important;\" data-html=PCFET0NUWVBFIGh0bWw+CjxoZWFkPiAgICAKICAgIDxtZXRhIGh0dHAtZXF1aXY9ImNvbnRlbnQtdHlwZSIgY29udGVudD0idGV4dC9odG1sOyBjaGFyc2V0PVVURi04IiAvPgogICAgCiAgICAgICAgPHNjcmlwdD4KICAgICAgICAgICAgTF9OT19UT1VDSCA9IGZhbHNlOwogICAgICAgICAgICBMX0RJU0FCTEVfM0QgPSBmYWxzZTsKICAgICAgICA8L3NjcmlwdD4KICAgIAogICAgPHNjcmlwdCBzcmM9Imh0dHBzOi8vY2RuLmpzZGVsaXZyLm5ldC9ucG0vbGVhZmxldEAxLjYuMC9kaXN0L2xlYWZsZXQuanMiPjwvc2NyaXB0PgogICAgPHNjcmlwdCBzcmM9Imh0dHBzOi8vY29kZS5qcXVlcnkuY29tL2pxdWVyeS0xLjEyLjQubWluLmpzIj48L3NjcmlwdD4KICAgIDxzY3JpcHQgc3JjPSJodHRwczovL21heGNkbi5ib290c3RyYXBjZG4uY29tL2Jvb3RzdHJhcC8zLjIuMC9qcy9ib290c3RyYXAubWluLmpzIj48L3NjcmlwdD4KICAgIDxzY3JpcHQgc3JjPSJodHRwczovL2NkbmpzLmNsb3VkZmxhcmUuY29tL2FqYXgvbGlicy9MZWFmbGV0LmF3ZXNvbWUtbWFya2Vycy8yLjAuMi9sZWFmbGV0LmF3ZXNvbWUtbWFya2Vycy5qcyI+PC9zY3JpcHQ+CiAgICA8bGluayByZWw9InN0eWxlc2hlZXQiIGhyZWY9Imh0dHBzOi8vY2RuLmpzZGVsaXZyLm5ldC9ucG0vbGVhZmxldEAxLjYuMC9kaXN0L2xlYWZsZXQuY3NzIi8+CiAgICA8bGluayByZWw9InN0eWxlc2hlZXQiIGhyZWY9Imh0dHBzOi8vbWF4Y2RuLmJvb3RzdHJhcGNkbi5jb20vYm9vdHN0cmFwLzMuMi4wL2Nzcy9ib290c3RyYXAubWluLmNzcyIvPgogICAgPGxpbmsgcmVsPSJzdHlsZXNoZWV0IiBocmVmPSJodHRwczovL21heGNkbi5ib290c3RyYXBjZG4uY29tL2Jvb3RzdHJhcC8zLjIuMC9jc3MvYm9vdHN0cmFwLXRoZW1lLm1pbi5jc3MiLz4KICAgIDxsaW5rIHJlbD0ic3R5bGVzaGVldCIgaHJlZj0iaHR0cHM6Ly9tYXhjZG4uYm9vdHN0cmFwY2RuLmNvbS9mb250LWF3ZXNvbWUvNC42LjMvY3NzL2ZvbnQtYXdlc29tZS5taW4uY3NzIi8+CiAgICA8bGluayByZWw9InN0eWxlc2hlZXQiIGhyZWY9Imh0dHBzOi8vY2RuanMuY2xvdWRmbGFyZS5jb20vYWpheC9saWJzL0xlYWZsZXQuYXdlc29tZS1tYXJrZXJzLzIuMC4yL2xlYWZsZXQuYXdlc29tZS1tYXJrZXJzLmNzcyIvPgogICAgPGxpbmsgcmVsPSJzdHlsZXNoZWV0IiBocmVmPSJodHRwczovL3Jhd2Nkbi5naXRoYWNrLmNvbS9weXRob24tdmlzdWFsaXphdGlvbi9mb2xpdW0vbWFzdGVyL2ZvbGl1bS90ZW1wbGF0ZXMvbGVhZmxldC5hd2Vzb21lLnJvdGF0ZS5jc3MiLz4KICAgIDxzdHlsZT5odG1sLCBib2R5IHt3aWR0aDogMTAwJTtoZWlnaHQ6IDEwMCU7bWFyZ2luOiAwO3BhZGRpbmc6IDA7fTwvc3R5bGU+CiAgICA8c3R5bGU+I21hcCB7cG9zaXRpb246YWJzb2x1dGU7dG9wOjA7Ym90dG9tOjA7cmlnaHQ6MDtsZWZ0OjA7fTwvc3R5bGU+CiAgICAKICAgICAgICAgICAgPG1ldGEgbmFtZT0idmlld3BvcnQiIGNvbnRlbnQ9IndpZHRoPWRldmljZS13aWR0aCwKICAgICAgICAgICAgICAgIGluaXRpYWwtc2NhbGU9MS4wLCBtYXhpbXVtLXNjYWxlPTEuMCwgdXNlci1zY2FsYWJsZT1ubyIgLz4KICAgICAgICAgICAgPHN0eWxlPgogICAgICAgICAgICAgICAgI21hcF8yNWE2OTNmZWI3MGE0ODgzYjk5YTkyNmNmZjcyMmE4MCB7CiAgICAgICAgICAgICAgICAgICAgcG9zaXRpb246IHJlbGF0aXZlOwogICAgICAgICAgICAgICAgICAgIHdpZHRoOiAxMDAuMCU7CiAgICAgICAgICAgICAgICAgICAgaGVpZ2h0OiAxMDAuMCU7CiAgICAgICAgICAgICAgICAgICAgbGVmdDogMC4wJTsKICAgICAgICAgICAgICAgICAgICB0b3A6IDAuMCU7CiAgICAgICAgICAgICAgICB9CiAgICAgICAgICAgIDwvc3R5bGU+CiAgICAgICAgCjwvaGVhZD4KPGJvZHk+ICAgIAogICAgCiAgICAgICAgICAgIDxkaXYgY2xhc3M9ImZvbGl1bS1tYXAiIGlkPSJtYXBfMjVhNjkzZmViNzBhNDg4M2I5OWE5MjZjZmY3MjJhODAiID48L2Rpdj4KICAgICAgICAKPC9ib2R5Pgo8c2NyaXB0PiAgICAKICAgIAogICAgICAgICAgICB2YXIgbWFwXzI1YTY5M2ZlYjcwYTQ4ODNiOTlhOTI2Y2ZmNzIyYTgwID0gTC5tYXAoCiAgICAgICAgICAgICAgICAibWFwXzI1YTY5M2ZlYjcwYTQ4ODNiOTlhOTI2Y2ZmNzIyYTgwIiwKICAgICAgICAgICAgICAgIHsKICAgICAgICAgICAgICAgICAgICBjZW50ZXI6IFs0OS4yNzk1OTUsIC0xMjMuMTExOTYxOF0sCiAgICAgICAgICAgICAgICAgICAgY3JzOiBMLkNSUy5FUFNHMzg1NywKICAgICAgICAgICAgICAgICAgICB6b29tOiAxNSwKICAgICAgICAgICAgICAgICAgICB6b29tQ29udHJvbDogdHJ1ZSwKICAgICAgICAgICAgICAgICAgICBwcmVmZXJDYW52YXM6IGZhbHNlLAogICAgICAgICAgICAgICAgfQogICAgICAgICAgICApOwoKICAgICAgICAgICAgCgogICAgICAgIAogICAgCiAgICAgICAgICAgIHZhciB0aWxlX2xheWVyX2UwNTU2MDAzNTVkZTRkOGU5YmM3YWVjYTY2MTVhMGUzID0gTC50aWxlTGF5ZXIoCiAgICAgICAgICAgICAgICAiaHR0cHM6Ly97c30udGlsZS5vcGVuc3RyZWV0bWFwLm9yZy97en0ve3h9L3t5fS5wbmciLAogICAgICAgICAgICAgICAgeyJhdHRyaWJ1dGlvbiI6ICJEYXRhIGJ5IFx1MDAyNmNvcHk7IFx1MDAzY2EgaHJlZj1cImh0dHA6Ly9vcGVuc3RyZWV0bWFwLm9yZ1wiXHUwMDNlT3BlblN0cmVldE1hcFx1MDAzYy9hXHUwMDNlLCB1bmRlciBcdTAwM2NhIGhyZWY9XCJodHRwOi8vd3d3Lm9wZW5zdHJlZXRtYXAub3JnL2NvcHlyaWdodFwiXHUwMDNlT0RiTFx1MDAzYy9hXHUwMDNlLiIsICJkZXRlY3RSZXRpbmEiOiBmYWxzZSwgIm1heE5hdGl2ZVpvb20iOiAxOCwgIm1heFpvb20iOiAxOCwgIm1pblpvb20iOiAwLCAibm9XcmFwIjogZmFsc2UsICJvcGFjaXR5IjogMSwgInN1YmRvbWFpbnMiOiAiYWJjIiwgInRtcyI6IGZhbHNlfQogICAgICAgICAgICApLmFkZFRvKG1hcF8yNWE2OTNmZWI3MGE0ODgzYjk5YTkyNmNmZjcyMmE4MCk7CiAgICAgICAgCiAgICAKICAgICAgICAgICAgdmFyIG1hcmtlcl8yNTg0ODU4OWRkOWM0MzM1YTRkNTRjMzBkOTQyMDM5ZSA9IEwubWFya2VyKAogICAgICAgICAgICAgICAgWzQ5LjI3OTk0MzMsIC0xMjMuMTEzNzc1N10sCiAgICAgICAgICAgICAgICB7fQogICAgICAgICAgICApLmFkZFRvKG1hcF8yNWE2OTNmZWI3MGE0ODgzYjk5YTkyNmNmZjcyMmE4MCk7CiAgICAgICAgCiAgICAKICAgICAgICB2YXIgcG9wdXBfMmUyOWEwMjIwZjkzNGI0NWE2MzhhZGQ1MmNiMzgwN2UgPSBMLnBvcHVwKHsibWF4V2lkdGgiOiAiMTAwJSJ9KTsKCiAgICAgICAgCiAgICAgICAgICAgIHZhciBodG1sX2JhOTA2NjA2YjljYzRiYWM5YjgzOTM4NTk5MjE2ODE1ID0gJChgPGRpdiBpZD0iaHRtbF9iYTkwNjYwNmI5Y2M0YmFjOWI4MzkzODU5OTIxNjgxNSIgc3R5bGU9IndpZHRoOiAxMDAuMCU7IGhlaWdodDogMTAwLjAlOyI+RG93bnRvd24gRmFybWVycyBNYXJrZXQ8L2Rpdj5gKVswXTsKICAgICAgICAgICAgcG9wdXBfMmUyOWEwMjIwZjkzNGI0NWE2MzhhZGQ1MmNiMzgwN2Uuc2V0Q29udGVudChodG1sX2JhOTA2NjA2YjljYzRiYWM5YjgzOTM4NTk5MjE2ODE1KTsKICAgICAgICAKCiAgICAgICAgbWFya2VyXzI1ODQ4NTg5ZGQ5YzQzMzVhNGQ1NGMzMGQ5NDIwMzllLmJpbmRQb3B1cChwb3B1cF8yZTI5YTAyMjBmOTM0YjQ1YTYzOGFkZDUyY2IzODA3ZSkKICAgICAgICA7CgogICAgICAgIAogICAgCiAgICAKICAgICAgICAgICAgdmFyIG1hcmtlcl9kYTA2Y2Q0ZmU1MWY0YjgzYWFjMGJhZGM3ZTYyYWE5ZSA9IEwubWFya2VyKAogICAgICAgICAgICAgICAgWzQ5LjI3ODc3NDksIC0xMjMuMTE0NjgzNl0sCiAgICAgICAgICAgICAgICB7fQogICAgICAgICAgICApLmFkZFRvKG1hcF8yNWE2OTNmZWI3MGE0ODgzYjk5YTkyNmNmZjcyMmE4MCk7CiAgICAgICAgCiAgICAKICAgICAgICB2YXIgcG9wdXBfYzlkNmYwYTFiMWYyNDE5NmJkOTMxMDYyMjY0ZGQ4NGMgPSBMLnBvcHVwKHsibWF4V2lkdGgiOiAiMTAwJSJ9KTsKCiAgICAgICAgCiAgICAgICAgICAgIHZhciBodG1sX2FmMWZjNGExOTRiYTRlNDM4MDMwZTYyODNkMTBmOWM4ID0gJChgPGRpdiBpZD0iaHRtbF9hZjFmYzRhMTk0YmE0ZTQzODAzMGU2MjgzZDEwZjljOCIgc3R5bGU9IndpZHRoOiAxMDAuMCU7IGhlaWdodDogMTAwLjAlOyI+VGhlIFBvc3QgYXQgNzUwPC9kaXY+YClbMF07CiAgICAgICAgICAgIHBvcHVwX2M5ZDZmMGExYjFmMjQxOTZiZDkzMTA2MjI2NGRkODRjLnNldENvbnRlbnQoaHRtbF9hZjFmYzRhMTk0YmE0ZTQzODAzMGU2MjgzZDEwZjljOCk7CiAgICAgICAgCgogICAgICAgIG1hcmtlcl9kYTA2Y2Q0ZmU1MWY0YjgzYWFjMGJhZGM3ZTYyYWE5ZS5iaW5kUG9wdXAocG9wdXBfYzlkNmYwYTFiMWYyNDE5NmJkOTMxMDYyMjY0ZGQ4NGMpCiAgICAgICAgOwoKICAgICAgICAKICAgIAogICAgCiAgICAgICAgICAgIHZhciBtYXJrZXJfZDYzMzgxZmFjYzhmNDljMjhkMzQwMWYwNDQ5NTExZjYgPSBMLm1hcmtlcigKICAgICAgICAgICAgICAgIFs0OS4yNzc0NDM3OTk5OTk5OSwgLTEyMy4xMTIzNDc3XSwKICAgICAgICAgICAgICAgIHt9CiAgICAgICAgICAgICkuYWRkVG8obWFwXzI1YTY5M2ZlYjcwYTQ4ODNiOTlhOTI2Y2ZmNzIyYTgwKTsKICAgICAgICAKICAgIAogICAgICAgIHZhciBwb3B1cF9kMTMyMjI0MjRiOWE0YmJlOTY0Mjc2NTBiMGY0MTdjNCA9IEwucG9wdXAoeyJtYXhXaWR0aCI6ICIxMDAlIn0pOwoKICAgICAgICAKICAgICAgICAgICAgdmFyIGh0bWxfNjcyMDc2ZmFkMmZkNGFhMTk2MDI2ZGYyMzVjZTMzNzEgPSAkKGA8ZGl2IGlkPSJodG1sXzY3MjA3NmZhZDJmZDRhYTE5NjAyNmRmMjM1Y2UzMzcxIiBzdHlsZT0id2lkdGg6IDEwMC4wJTsgaGVpZ2h0OiAxMDAuMCU7Ij5CQyBTcG9ydHMgSGFsbCBvZiBGYW1lPC9kaXY+YClbMF07CiAgICAgICAgICAgIHBvcHVwX2QxMzIyMjQyNGI5YTRiYmU5NjQyNzY1MGIwZjQxN2M0LnNldENvbnRlbnQoaHRtbF82NzIwNzZmYWQyZmQ0YWExOTYwMjZkZjIzNWNlMzM3MSk7CiAgICAgICAgCgogICAgICAgIG1hcmtlcl9kNjMzODFmYWNjOGY0OWMyOGQzNDAxZjA0NDk1MTFmNi5iaW5kUG9wdXAocG9wdXBfZDEzMjIyNDI0YjlhNGJiZTk2NDI3NjUwYjBmNDE3YzQpCiAgICAgICAgOwoKICAgICAgICAKICAgIAogICAgCiAgICAgICAgICAgIHZhciBtYXJrZXJfNDI5MDJmMmVjNzUzNDYxNTg1YjAwMmFkNDRmYWExZDkgPSBMLm1hcmtlcigKICAgICAgICAgICAgICAgIFs0OS4yNzQ2NjM4LCAtMTIzLjEwODk0NDFdLAogICAgICAgICAgICAgICAge30KICAgICAgICAgICAgKS5hZGRUbyhtYXBfMjVhNjkzZmViNzBhNDg4M2I5OWE5MjZjZmY3MjJhODApOwogICAgICAgIAogICAgCiAgICAgICAgdmFyIHBvcHVwX2MzOGM5MjE4ZTc0NjQ1MzM4NjQwODZjOGZjOGYwMDVjID0gTC5wb3B1cCh7Im1heFdpZHRoIjogIjEwMCUifSk7CgogICAgICAgIAogICAgICAgICAgICB2YXIgaHRtbF9kMDlkYzhiNGQ5YTM0NWYwODEwMTQzNjhlZDE5ODcxMSA9ICQoYDxkaXYgaWQ9Imh0bWxfZDA5ZGM4YjRkOWEzNDVmMDgxMDE0MzY4ZWQxOTg3MTEiIHN0eWxlPSJ3aWR0aDogMTAwLjAlOyBoZWlnaHQ6IDEwMC4wJTsiPkhhcmJvdXIgQ29udmVudGlvbiBDZW50cmU8L2Rpdj5gKVswXTsKICAgICAgICAgICAgcG9wdXBfYzM4YzkyMThlNzQ2NDUzMzg2NDA4NmM4ZmM4ZjAwNWMuc2V0Q29udGVudChodG1sX2QwOWRjOGI0ZDlhMzQ1ZjA4MTAxNDM2OGVkMTk4NzExKTsKICAgICAgICAKCiAgICAgICAgbWFya2VyXzQyOTAyZjJlYzc1MzQ2MTU4NWIwMDJhZDQ0ZmFhMWQ5LmJpbmRQb3B1cChwb3B1cF9jMzhjOTIxOGU3NDY0NTMzODY0MDg2YzhmYzhmMDA1YykKICAgICAgICA7CgogICAgICAgIAogICAgCiAgICAKICAgICAgICAgICAgdmFyIG1hcmtlcl9lOTI3NmZiMTU2ODA0ZDZhYjdkYzRlZjY1OWY5ZjBlYyA9IEwubWFya2VyKAogICAgICAgICAgICAgICAgWzQ5LjI2ODEwNDYsIC0xMjMuMTExMTMwMzAwMDAwMDFdLAogICAgICAgICAgICAgICAge30KICAgICAgICAgICAgKS5hZGRUbyhtYXBfMjVhNjkzZmViNzBhNDg4M2I5OWE5MjZjZmY3MjJhODApOwogICAgICAgIAogICAgCiAgICAgICAgdmFyIHBvcHVwXzljMjhhMjNlNTI0NjQ4MDNhMWZjNGFlN2U3ZTI2ZWVmID0gTC5wb3B1cCh7Im1heFdpZHRoIjogIjEwMCUifSk7CgogICAgICAgIAogICAgICAgICAgICB2YXIgaHRtbF8xMjAxZmNmYjQyZmI0YTc1YTA4ZWRlNGI3OTBhMTQ2NyA9ICQoYDxkaXYgaWQ9Imh0bWxfMTIwMWZjZmI0MmZiNGE3NWEwOGVkZTRiNzkwYTE0NjciIHN0eWxlPSJ3aWR0aDogMTAwLjAlOyBoZWlnaHQ6IDEwMC4wJTsiPkNpdHkgU2lkZSBXaW5lcnk8L2Rpdj5gKVswXTsKICAgICAgICAgICAgcG9wdXBfOWMyOGEyM2U1MjQ2NDgwM2ExZmM0YWU3ZTdlMjZlZWYuc2V0Q29udGVudChodG1sXzEyMDFmY2ZiNDJmYjRhNzVhMDhlZGU0Yjc5MGExNDY3KTsKICAgICAgICAKCiAgICAgICAgbWFya2VyX2U5Mjc2ZmIxNTY4MDRkNmFiN2RjNGVmNjU5ZjlmMGVjLmJpbmRQb3B1cChwb3B1cF85YzI4YTIzZTUyNDY0ODAzYTFmYzRhZTdlN2UyNmVlZikKICAgICAgICA7CgogICAgICAgIAogICAgCjwvc2NyaXB0Pg== onload=\"this.contentDocument.open();this.contentDocument.write(atob(this.getAttribute('data-html')));this.contentDocument.close();\" allowfullscreen webkitallowfullscreen mozallowfullscreen></iframe></div></div>"
      ],
      "text/plain": [
       "<folium.folium.Map at 0x2c578f33898>"
      ]
     },
     "execution_count": 108,
     "metadata": {},
     "output_type": "execute_result"
    }
   ],
   "source": [
    "placeList = sd['name'].values.tolist()\n",
    "placeDataPlot = sd[['lat','lon']]\n",
    "locationlist = placeDataPlot.values.tolist()\n",
    "\n",
    "map =folium.Map(location=[49.279595,-123.1119618], zoom_start=15)\n",
    "\n",
    "for point in range(0, len(locationlist)):\n",
    "    folium.Marker(locationlist[point], popup = placeList[point]).add_to(map)\n",
    "\n",
    "map"
   ]
  }
 ],
 "metadata": {
  "kernelspec": {
   "display_name": "Python 3",
   "language": "python",
   "name": "python3"
  },
  "language_info": {
   "codemirror_mode": {
    "name": "ipython",
    "version": 3
   },
   "file_extension": ".py",
   "mimetype": "text/x-python",
   "name": "python",
   "nbconvert_exporter": "python",
   "pygments_lexer": "ipython3",
   "version": "3.7.1"
  }
 },
 "nbformat": 4,
 "nbformat_minor": 2
}
